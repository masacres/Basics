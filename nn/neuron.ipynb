{
 "cells": [
  {
   "metadata": {
    "ExecuteTime": {
     "end_time": "2025-04-08T02:18:51.345050Z",
     "start_time": "2025-04-08T02:18:51.329389Z"
    }
   },
   "cell_type": "code",
   "source": [
    "import torch\n",
    "import torch.nn as nn"
   ],
   "id": "994135427116a3e7",
   "outputs": [],
   "execution_count": 12
  },
  {
   "metadata": {
    "ExecuteTime": {
     "end_time": "2025-04-08T02:18:51.360658Z",
     "start_time": "2025-04-08T02:18:51.345050Z"
    }
   },
   "cell_type": "code",
   "source": [
    "class Neuron(nn.Module):\n",
    "    def __init__(self, input_size):\n",
    "        super(Neuron, self).__init__()\n",
    "        # A single linear layer acts as a neuron (weights and bias)\n",
    "        self.linear = nn.Linear(input_size, 1)\n",
    "        self.activation = nn.Sigmoid()  # Or nn.ReLU(), nn.Tanh(), etc.\n",
    "\n",
    "    def forward(self, x):\n",
    "        # Linear combination of inputs and weights, plus bias\n",
    "        x = self.linear(x)\n",
    "        # Apply the activation function\n",
    "        x = self.activation(x)\n",
    "        return x"
   ],
   "id": "a9a5dec147c54dba",
   "outputs": [],
   "execution_count": 13
  },
  {
   "metadata": {
    "ExecuteTime": {
     "end_time": "2025-04-08T02:18:51.392294Z",
     "start_time": "2025-04-08T02:18:51.376275Z"
    }
   },
   "cell_type": "code",
   "source": [
    "# Example usage\n",
    "input_size = 3\n",
    "neuron = Neuron(input_size)"
   ],
   "id": "305daef2e001d658",
   "outputs": [],
   "execution_count": 14
  },
  {
   "metadata": {
    "ExecuteTime": {
     "end_time": "2025-04-08T02:18:51.423566Z",
     "start_time": "2025-04-08T02:18:51.407942Z"
    }
   },
   "cell_type": "code",
   "source": [
    "# Example input\n",
    "input_data = torch.tensor([[1.0, 2.0, 3.0]], dtype=torch.float32)"
   ],
   "id": "27ad0f6a6480dba9",
   "outputs": [],
   "execution_count": 15
  },
  {
   "metadata": {
    "ExecuteTime": {
     "end_time": "2025-04-08T02:18:51.454805Z",
     "start_time": "2025-04-08T02:18:51.439190Z"
    }
   },
   "cell_type": "code",
   "source": [
    "# Forward pass\n",
    "output = neuron(input_data)\n",
    "\n",
    "print(\"Input:\", input_data)\n",
    "print(\"Output:\", output)\n",
    "print(\"Weights:\", neuron.linear.weight.data)\n",
    "print(\"Bias:\", neuron.linear.bias.data)"
   ],
   "id": "8a30f190590ca4d2",
   "outputs": [
    {
     "name": "stdout",
     "output_type": "stream",
     "text": [
      "Input: tensor([[1., 2., 3.]])\n",
      "Output: tensor([[0.8762]], grad_fn=<SigmoidBackward0>)\n",
      "Weights: tensor([[-0.5093,  0.4181,  0.5052]])\n",
      "Bias: tensor([0.1145])\n"
     ]
    }
   ],
   "execution_count": 16
  },
  {
   "metadata": {
    "ExecuteTime": {
     "end_time": "2025-04-08T02:18:51.486074Z",
     "start_time": "2025-04-08T02:18:51.470439Z"
    }
   },
   "cell_type": "code",
   "source": [
    "#Example with relu activation.\n",
    "neuron_relu = Neuron(input_size)\n",
    "neuron_relu.activation = nn.ReLU()\n",
    "output_relu = neuron_relu(input_data)\n",
    "print(\"Output with ReLU activation:\", output_relu)"
   ],
   "id": "17027c7111ccbf21",
   "outputs": [
    {
     "name": "stdout",
     "output_type": "stream",
     "text": [
      "Output with ReLU activation: tensor([[1.8215]], grad_fn=<ReluBackward0>)\n"
     ]
    }
   ],
   "execution_count": 17
  },
  {
   "metadata": {
    "ExecuteTime": {
     "end_time": "2025-04-08T02:18:51.518058Z",
     "start_time": "2025-04-08T02:18:51.502097Z"
    }
   },
   "cell_type": "code",
   "source": [
    "#Example with Tanh activation.\n",
    "neuron_tanh = Neuron(input_size)\n",
    "neuron_tanh.activation = nn.Tanh()\n",
    "output_tanh = neuron_tanh(input_data)\n",
    "print(\"Output with Tanh activation:\", output_tanh)"
   ],
   "id": "288afe1846ecda72",
   "outputs": [
    {
     "name": "stdout",
     "output_type": "stream",
     "text": [
      "Output with Tanh activation: tensor([[-0.8560]], grad_fn=<TanhBackward0>)\n"
     ]
    }
   ],
   "execution_count": 18
  }
 ],
 "metadata": {
  "kernelspec": {
   "display_name": "Python 3",
   "language": "python",
   "name": "python3"
  },
  "language_info": {
   "codemirror_mode": {
    "name": "ipython",
    "version": 2
   },
   "file_extension": ".py",
   "mimetype": "text/x-python",
   "name": "python",
   "nbconvert_exporter": "python",
   "pygments_lexer": "ipython2",
   "version": "2.7.6"
  }
 },
 "nbformat": 4,
 "nbformat_minor": 5
}

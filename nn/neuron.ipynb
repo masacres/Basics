{
 "cells": [
  {
   "metadata": {
    "ExecuteTime": {
     "end_time": "2025-04-09T03:39:29.256525Z",
     "start_time": "2025-04-09T03:39:29.244448Z"
    }
   },
   "cell_type": "code",
   "source": [
    "import torch\n",
    "import torch.nn as nn\n",
    "import torch.optim as optim"
   ],
   "id": "994135427116a3e7",
   "outputs": [],
   "execution_count": 68
  },
  {
   "metadata": {
    "ExecuteTime": {
     "end_time": "2025-04-09T03:41:42.463806Z",
     "start_time": "2025-04-09T03:41:42.450715Z"
    }
   },
   "cell_type": "code",
   "source": [
    "# Define the neural network model\n",
    "class XORNet(nn.Module):\n",
    "    def __init__(self):\n",
    "        super(XORNet, self).__init__()\n",
    "        self.layer1 = nn.Linear(2, 4)  # Input layer to hidden layer (2 inputs, 4 hidden units)\n",
    "        self.activation1 = nn.Sigmoid() # Activation function for the hidden layer\n",
    "        self.layer2 = nn.Linear(4, 1)  # Hidden layer to output layer (4 hidden units, 1 output)\n",
    "        self.activation2 = nn.Sigmoid() # Activation function for the output layer\n",
    "\n",
    "    def forward(self, x):\n",
    "        x = self.layer1(x)\n",
    "        x = self.activation1(x)\n",
    "        x = self.layer2(x)\n",
    "        x = self.activation2(x)\n",
    "        return x"
   ],
   "id": "4908a2940aaf9f65",
   "outputs": [],
   "execution_count": 83
  },
  {
   "metadata": {
    "ExecuteTime": {
     "end_time": "2025-04-09T03:41:44.490470Z",
     "start_time": "2025-04-09T03:41:44.480448Z"
    }
   },
   "cell_type": "code",
   "source": [
    "# Instantiate the model\n",
    "model = XORNet()\n",
    "\n",
    "# Define the loss function and optimizer\n",
    "criterion = nn.MSELoss()\n",
    "optimizer = optim.Adam(model.parameters(), lr=0.01)\n",
    "\n",
    "# Define the XOR dataset\n",
    "X = torch.tensor([[0, 0], [0, 1], [1, 0], [1, 1]], dtype=torch.float32)\n",
    "y = torch.tensor([[0], [1], [1], [0]], dtype=torch.float32)"
   ],
   "id": "3aa671d2da84a600",
   "outputs": [],
   "execution_count": 84
  },
  {
   "metadata": {
    "ExecuteTime": {
     "end_time": "2025-04-09T03:41:49.724247Z",
     "start_time": "2025-04-09T03:41:46.645602Z"
    }
   },
   "cell_type": "code",
   "source": [
    "# Train the model\n",
    "epochs = 10000\n",
    "for epoch in range(epochs):\n",
    "    # Forward pass\n",
    "    outputs = model(X)\n",
    "    loss = criterion(outputs, y)\n",
    "\n",
    "    # Backward pass and optimization\n",
    "    optimizer.zero_grad()\n",
    "    loss.backward()\n",
    "    optimizer.step()\n",
    "\n",
    "    if (epoch + 1) % 1000 == 0:\n",
    "        print(f'Epoch [{epoch + 1}/{epochs}], Loss: {loss.item():.4f}')"
   ],
   "id": "cb81ff966c2ac77f",
   "outputs": [
    {
     "name": "stdout",
     "output_type": "stream",
     "text": [
      "Epoch [1000/10000], Loss: 0.0037\n",
      "Epoch [2000/10000], Loss: 0.0009\n",
      "Epoch [3000/10000], Loss: 0.0004\n",
      "Epoch [4000/10000], Loss: 0.0002\n",
      "Epoch [5000/10000], Loss: 0.0001\n",
      "Epoch [6000/10000], Loss: 0.0001\n",
      "Epoch [7000/10000], Loss: 0.0000\n",
      "Epoch [8000/10000], Loss: 0.0000\n",
      "Epoch [9000/10000], Loss: 0.0000\n",
      "Epoch [10000/10000], Loss: 0.0000\n"
     ]
    }
   ],
   "execution_count": 85
  },
  {
   "metadata": {
    "ExecuteTime": {
     "end_time": "2025-04-09T03:41:51.775616Z",
     "start_time": "2025-04-09T03:41:51.765851Z"
    }
   },
   "cell_type": "code",
   "source": [
    "# Evaluate the model\n",
    "with torch.no_grad():\n",
    "    predicted = model(X)\n",
    "    #predicted_rounded = torch.round(predicted)\n",
    "    print('Predicted:')\n",
    "    print(predicted)"
   ],
   "id": "dfd6f8468174e1c5",
   "outputs": [
    {
     "name": "stdout",
     "output_type": "stream",
     "text": [
      "Predicted:\n",
      "tensor([[0.0026],\n",
      "        [0.9974],\n",
      "        [0.9975],\n",
      "        [0.0027]])\n"
     ]
    }
   ],
   "execution_count": 86
  },
  {
   "metadata": {
    "ExecuteTime": {
     "end_time": "2025-04-09T03:41:55.502249Z",
     "start_time": "2025-04-09T03:41:55.487748Z"
    }
   },
   "cell_type": "code",
   "source": [
    "#Check accuracy\n",
    "correct = (torch.round(predicted) == y).sum().item()\n",
    "total = y.numel()\n",
    "accuracy = correct / total\n",
    "print(f'Accuracy: {accuracy:.4f}')"
   ],
   "id": "517acdcbc1207659",
   "outputs": [
    {
     "name": "stdout",
     "output_type": "stream",
     "text": [
      "Accuracy: 1.0000\n"
     ]
    }
   ],
   "execution_count": 87
  },
  {
   "metadata": {
    "ExecuteTime": {
     "end_time": "2025-04-09T03:41:58.016187Z",
     "start_time": "2025-04-09T03:41:58.007419Z"
    }
   },
   "cell_type": "code",
   "source": [
    "#Example of inference.\n",
    "with torch.no_grad():\n",
    "    test_input = torch.tensor([[1,0]], dtype=torch.float32)\n",
    "    test_output = model(test_input)\n",
    "    print(f'Input: {test_input}, Predicted Output: {torch.round(test_output)}')"
   ],
   "id": "45edd97f79a6995e",
   "outputs": [
    {
     "name": "stdout",
     "output_type": "stream",
     "text": [
      "Input: tensor([[1., 0.]]), Predicted Output: tensor([[1.]])\n"
     ]
    }
   ],
   "execution_count": 88
  }
 ],
 "metadata": {
  "kernelspec": {
   "display_name": "Python 3",
   "language": "python",
   "name": "python3"
  },
  "language_info": {
   "codemirror_mode": {
    "name": "ipython",
    "version": 2
   },
   "file_extension": ".py",
   "mimetype": "text/x-python",
   "name": "python",
   "nbconvert_exporter": "python",
   "pygments_lexer": "ipython2",
   "version": "2.7.6"
  }
 },
 "nbformat": 4,
 "nbformat_minor": 5
}

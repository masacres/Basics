{
 "cells": [
  {
   "cell_type": "code",
   "id": "initial_id",
   "metadata": {
    "collapsed": true,
    "ExecuteTime": {
     "end_time": "2025-03-27T05:45:22.122783Z",
     "start_time": "2025-03-27T05:45:22.102949Z"
    }
   },
   "source": "import torch",
   "outputs": [],
   "execution_count": 10
  },
  {
   "metadata": {
    "ExecuteTime": {
     "end_time": "2025-03-27T06:07:51.918116Z",
     "start_time": "2025-03-27T06:07:51.891868Z"
    }
   },
   "cell_type": "code",
   "source": [
    "class Neuron:\n",
    "    def __init__(self, nin):\n",
    "        self.w = torch.randn(nin)\n",
    "        self.b = torch.randn(1)\n",
    "\n",
    "    def __call__(self, x):\n",
    "        act = x @ self.w + self.b\n",
    "        return act.tanh()\n",
    "\n",
    "class Layer:\n",
    "    def __init__(self, nin, nout):\n",
    "        self.neurons = [Neuron(nin) for _ in range(nout)]\n",
    "\n",
    "    def __call__(self, x):\n",
    "        outs = [n(x) for n in self.neurons]\n",
    "        return torch.cat(outs)\n",
    "\n",
    "class MLP:\n",
    "    def __init__(self, nin, nouts):\n",
    "        sz = [nin] + nouts\n",
    "        self.layers = [Layer(sz[i], sz[i+1]) for i in range(len(nouts))]\n",
    "\n",
    "    def __call__(self, x):\n",
    "        for layer in self.layers:\n",
    "            x = layer(x)\n",
    "        return x"
   ],
   "id": "6404b753028dbb6d",
   "outputs": [],
   "execution_count": 61
  },
  {
   "metadata": {
    "ExecuteTime": {
     "end_time": "2025-03-27T06:09:10.749308Z",
     "start_time": "2025-03-27T06:09:10.721132Z"
    }
   },
   "cell_type": "code",
   "source": [
    "n = Neuron(2)\n",
    "print(n(torch.tensor([1.0, 2.0])))\n",
    "print(n(torch.tensor([[1.0, 2.0], [3.0, 4.0], [5.0, 6.0]])))"
   ],
   "id": "cb4916ed5f33b9b8",
   "outputs": [
    {
     "name": "stdout",
     "output_type": "stream",
     "text": [
      "tensor([-0.1507])\n",
      "tensor([-0.1507,  0.0138,  0.1776])\n"
     ]
    }
   ],
   "execution_count": 66
  },
  {
   "metadata": {
    "ExecuteTime": {
     "end_time": "2025-03-27T06:07:55.402296Z",
     "start_time": "2025-03-27T06:07:55.359741Z"
    }
   },
   "cell_type": "code",
   "source": [
    "x = Layer(2, 3)\n",
    "res = x(torch.tensor([2,4]).float())\n",
    "print(res)"
   ],
   "id": "75f63066aa0dcaba",
   "outputs": [
    {
     "name": "stdout",
     "output_type": "stream",
     "text": [
      "tensor([ 0.9525, -0.6168,  0.9776])\n"
     ]
    }
   ],
   "execution_count": 62
  },
  {
   "metadata": {
    "ExecuteTime": {
     "end_time": "2025-03-27T06:08:21.770380Z",
     "start_time": "2025-03-27T06:08:21.741528Z"
    }
   },
   "cell_type": "code",
   "source": [
    "x = MLP(2, [3,3,1])\n",
    "res = x(torch.tensor([2,4]).float())\n",
    "print(res)"
   ],
   "id": "aaf6dd0655457bcd",
   "outputs": [
    {
     "name": "stdout",
     "output_type": "stream",
     "text": [
      "tensor([-0.6861])\n"
     ]
    }
   ],
   "execution_count": 63
  },
  {
   "metadata": {},
   "cell_type": "code",
   "source": [
    "X = torch.tensor([[1,2,3],[4,5,6],[7,8,9]]).float()\n",
    "y = torch.tensor([4, 7, 0]).float()"
   ],
   "id": "142a821d66d49df6",
   "outputs": [],
   "execution_count": null
  },
  {
   "metadata": {},
   "cell_type": "code",
   "source": [
    "W = torch.randn(3)\n",
    "b = torch.randn(3)\n",
    "parameters = [W, b]\n",
    "for parameter in parameters:\n",
    "    parameter.requires_grad = True"
   ],
   "id": "89f1416477820902",
   "outputs": [],
   "execution_count": null
  },
  {
   "metadata": {},
   "cell_type": "code",
   "source": [
    "lr = 0.1\n",
    "for _ in torch.arange(100):\n",
    "    for parameter in parameters:\n",
    "        parameter.grad = None\n",
    "\n",
    "    h = W @ X + b\n",
    "    p = torch.atan(h)\n",
    "    loss = torch.sum(torch.abs(p - y))\n",
    "    loss.backward()\n",
    "\n",
    "    for parameter in parameters:\n",
    "        W -= lr * parameter.grad"
   ],
   "id": "a38cc7008263e2d8",
   "outputs": [],
   "execution_count": null
  },
  {
   "metadata": {},
   "cell_type": "code",
   "source": [
    "with torch.no_grad():\n",
    "    z = W @ X + b\n",
    "    p = z.tanh()\n",
    "    print(p)"
   ],
   "id": "ccada3dac9cc42b5",
   "outputs": [],
   "execution_count": null
  }
 ],
 "metadata": {
  "kernelspec": {
   "display_name": "Python 3",
   "language": "python",
   "name": "python3"
  },
  "language_info": {
   "codemirror_mode": {
    "name": "ipython",
    "version": 2
   },
   "file_extension": ".py",
   "mimetype": "text/x-python",
   "name": "python",
   "nbconvert_exporter": "python",
   "pygments_lexer": "ipython2",
   "version": "2.7.6"
  }
 },
 "nbformat": 4,
 "nbformat_minor": 5
}

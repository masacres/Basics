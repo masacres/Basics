{
 "cells": [
  {
   "cell_type": "code",
   "id": "initial_id",
   "metadata": {
    "collapsed": true,
    "ExecuteTime": {
     "end_time": "2025-04-13T14:31:28.953986Z",
     "start_time": "2025-04-13T14:31:24.483526Z"
    }
   },
   "source": [
    "from fastai.vision.all import *\n",
    "import matplotlib.pyplot as plt\n",
    "import seaborn as sns"
   ],
   "outputs": [],
   "execution_count": 1
  },
  {
   "metadata": {
    "ExecuteTime": {
     "end_time": "2025-04-13T14:31:28.969204Z",
     "start_time": "2025-04-13T14:31:28.965150Z"
    }
   },
   "cell_type": "code",
   "source": "path = untar_data(URLs.MNIST_SAMPLE)",
   "id": "4fc67cd13b0dd648",
   "outputs": [],
   "execution_count": 2
  },
  {
   "metadata": {
    "ExecuteTime": {
     "end_time": "2025-04-13T14:31:28.985454Z",
     "start_time": "2025-04-13T14:31:28.979865Z"
    }
   },
   "cell_type": "code",
   "source": "(path/'train').ls()",
   "id": "4ca1847c090dce4",
   "outputs": [
    {
     "data": {
      "text/plain": [
       "(#2) [Path('C:/Users/Melvi/.fastai/data/mnist_sample/train/3'),Path('C:/Users/Melvi/.fastai/data/mnist_sample/train/7')]"
      ]
     },
     "execution_count": 3,
     "metadata": {},
     "output_type": "execute_result"
    }
   ],
   "execution_count": 3
  },
  {
   "metadata": {
    "ExecuteTime": {
     "end_time": "2025-04-13T14:31:29.303153Z",
     "start_time": "2025-04-13T14:31:29.184629Z"
    }
   },
   "cell_type": "code",
   "source": [
    "threes = (path/'train'/'3').ls().sorted()\n",
    "sevens = (path/'train'/'7').ls().sorted()"
   ],
   "id": "24dc21aad30d7595",
   "outputs": [],
   "execution_count": 4
  },
  {
   "metadata": {
    "ExecuteTime": {
     "end_time": "2025-04-13T14:31:29.345065Z",
     "start_time": "2025-04-13T14:31:29.325320Z"
    }
   },
   "cell_type": "code",
   "source": [
    "im3 = Image.open(threes[1])\n",
    "im3"
   ],
   "id": "e43d58c3054c56b5",
   "outputs": [
    {
     "data": {
      "text/plain": [
       "<PIL.PngImagePlugin.PngImageFile image mode=L size=28x28>"
      ],
      "image/png": "[encoded data removed]",
      "image/jpeg": "[encoded data removed]"
     },
     "execution_count": 5,
     "metadata": {},
     "output_type": "execute_result"
    }
   ],
   "execution_count": 5
  },
  {
   "metadata": {
    "ExecuteTime": {
     "end_time": "2025-04-13T14:31:29.568777Z",
     "start_time": "2025-04-13T14:31:29.369147Z"
    }
   },
   "cell_type": "code",
   "source": [
    "im3_t = tensor(im3)\n",
    "df = pd.DataFrame(im3_t[4:15,4:22])\n",
    "df.style.set_properties(**{'font-size':'6pt'}).background_gradient('Greys')"
   ],
   "id": "6fb9fbb652a1828f",
   "outputs": [
    {
     "data": {
      "text/plain": [
       "<pandas.io.formats.style.Styler at 0x22a98fd5640>"
      ],
      "text/html": [
       "<style type=\"text/css\">\n",
       "#T_95027_row0_col0, #T_95027_row0_col1, #T_95027_row0_col2, #T_95027_row0_col3, #T_95027_row0_col4, #T_95027_row0_col5, #T_95027_row0_col6, #T_95027_row0_col7, #T_95027_row0_col8, #T_95027_row0_col9, #T_95027_row0_col10, #T_95027_row0_col11, #T_95027_row0_col12, #T_95027_row0_col13, #T_95027_row0_col14, #T_95027_row0_col15, #T_95027_row0_col16, #T_95027_row0_col17, #T_95027_row1_col0, #T_95027_row1_col1, #T_95027_row1_col2, #T_95027_row1_col3, #T_95027_row1_col4, #T_95027_row1_col15, #T_95027_row1_col16, #T_95027_row1_col17, #T_95027_row2_col0, #T_95027_row2_col1, #T_95027_row2_col2, #T_95027_row2_col15, #T_95027_row2_col16, #T_95027_row2_col17, #T_95027_row3_col0, #T_95027_row3_col15, #T_95027_row3_col16, #T_95027_row3_col17, #T_95027_row4_col0, #T_95027_row4_col6, #T_95027_row4_col7, #T_95027_row4_col8, #T_95027_row4_col9, #T_95027_row4_col10, #T_95027_row4_col15, #T_95027_row4_col16, #T_95027_row4_col17, #T_95027_row5_col0, #T_95027_row5_col5, #T_95027_row5_col6, #T_95027_row5_col7, #T_95027_row5_col8, #T_95027_row5_col9, #T_95027_row5_col15, #T_95027_row5_col16, #T_95027_row5_col17, #T_95027_row6_col0, #T_95027_row6_col1, #T_95027_row6_col2, #T_95027_row6_col3, #T_95027_row6_col4, #T_95027_row6_col5, #T_95027_row6_col6, #T_95027_row6_col7, #T_95027_row6_col8, #T_95027_row6_col9, #T_95027_row6_col14, #T_95027_row6_col15, #T_95027_row6_col16, #T_95027_row6_col17, #T_95027_row7_col0, #T_95027_row7_col1, #T_95027_row7_col2, #T_95027_row7_col3, #T_95027_row7_col4, #T_95027_row7_col5, #T_95027_row7_col6, #T_95027_row7_col13, #T_95027_row7_col14, #T_95027_row7_col15, #T_95027_row7_col16, #T_95027_row7_col17, #T_95027_row8_col0, #T_95027_row8_col1, #T_95027_row8_col2, #T_95027_row8_col3, #T_95027_row8_col4, #T_95027_row8_col13, #T_95027_row8_col14, #T_95027_row8_col15, #T_95027_row8_col16, #T_95027_row8_col17, #T_95027_row9_col0, #T_95027_row9_col1, #T_95027_row9_col2, #T_95027_row9_col3, #T_95027_row9_col4, #T_95027_row9_col16, #T_95027_row9_col17, #T_95027_row10_col0, #T_95027_row10_col1, #T_95027_row10_col2, #T_95027_row10_col3, #T_95027_row10_col4, #T_95027_row10_col5, #T_95027_row10_col6, #T_95027_row10_col17 {\n",
       "  font-size: 6pt;\n",
       "  background-color: #ffffff;\n",
       "  color: #000000;\n",
       "}\n",
       "#T_95027_row1_col5 {\n",
       "  font-size: 6pt;\n",
       "  background-color: #efefef;\n",
       "  color: #000000;\n",
       "}\n",
       "#T_95027_row1_col6, #T_95027_row1_col13 {\n",
       "  font-size: 6pt;\n",
       "  background-color: #7c7c7c;\n",
       "  color: #f1f1f1;\n",
       "}\n",
       "#T_95027_row1_col7 {\n",
       "  font-size: 6pt;\n",
       "  background-color: #4a4a4a;\n",
       "  color: #f1f1f1;\n",
       "}\n",
       "#T_95027_row1_col8, #T_95027_row1_col9, #T_95027_row1_col10, #T_95027_row2_col5, #T_95027_row2_col6, #T_95027_row2_col7, #T_95027_row2_col11, #T_95027_row2_col12, #T_95027_row2_col13, #T_95027_row3_col4, #T_95027_row3_col12, #T_95027_row3_col13, #T_95027_row4_col1, #T_95027_row4_col2, #T_95027_row4_col3, #T_95027_row4_col12, #T_95027_row4_col13, #T_95027_row5_col12, #T_95027_row6_col11, #T_95027_row9_col11, #T_95027_row10_col11, #T_95027_row10_col12, #T_95027_row10_col13, #T_95027_row10_col14, #T_95027_row10_col15, #T_95027_row10_col16 {\n",
       "  font-size: 6pt;\n",
       "  background-color: #000000;\n",
       "  color: #f1f1f1;\n",
       "}\n",
       "#T_95027_row1_col11 {\n",
       "  font-size: 6pt;\n",
       "  background-color: #606060;\n",
       "  color: #f1f1f1;\n",
       "}\n",
       "#T_95027_row1_col12 {\n",
       "  font-size: 6pt;\n",
       "  background-color: #4d4d4d;\n",
       "  color: #f1f1f1;\n",
       "}\n",
       "#T_95027_row1_col14 {\n",
       "  font-size: 6pt;\n",
       "  background-color: #bbbbbb;\n",
       "  color: #000000;\n",
       "}\n",
       "#T_95027_row2_col3 {\n",
       "  font-size: 6pt;\n",
       "  background-color: #e4e4e4;\n",
       "  color: #000000;\n",
       "}\n",
       "#T_95027_row2_col4, #T_95027_row8_col6 {\n",
       "  font-size: 6pt;\n",
       "  background-color: #6b6b6b;\n",
       "  color: #f1f1f1;\n",
       "}\n",
       "#T_95027_row2_col8, #T_95027_row2_col14, #T_95027_row3_col14 {\n",
       "  font-size: 6pt;\n",
       "  background-color: #171717;\n",
       "  color: #f1f1f1;\n",
       "}\n",
       "#T_95027_row2_col9, #T_95027_row3_col11 {\n",
       "  font-size: 6pt;\n",
       "  background-color: #4b4b4b;\n",
       "  color: #f1f1f1;\n",
       "}\n",
       "#T_95027_row2_col10, #T_95027_row7_col10, #T_95027_row8_col8, #T_95027_row8_col10, #T_95027_row9_col8, #T_95027_row9_col10 {\n",
       "  font-size: 6pt;\n",
       "  background-color: #010101;\n",
       "  color: #f1f1f1;\n",
       "}\n",
       "#T_95027_row3_col1 {\n",
       "  font-size: 6pt;\n",
       "  background-color: #272727;\n",
       "  color: #f1f1f1;\n",
       "}\n",
       "#T_95027_row3_col2 {\n",
       "  font-size: 6pt;\n",
       "  background-color: #0a0a0a;\n",
       "  color: #f1f1f1;\n",
       "}\n",
       "#T_95027_row3_col3 {\n",
       "  font-size: 6pt;\n",
       "  background-color: #050505;\n",
       "  color: #f1f1f1;\n",
       "}\n",
       "#T_95027_row3_col5 {\n",
       "  font-size: 6pt;\n",
       "  background-color: #333333;\n",
       "  color: #f1f1f1;\n",
       "}\n",
       "#T_95027_row3_col6 {\n",
       "  font-size: 6pt;\n",
       "  background-color: #e6e6e6;\n",
       "  color: #000000;\n",
       "}\n",
       "#T_95027_row3_col7, #T_95027_row3_col10 {\n",
       "  font-size: 6pt;\n",
       "  background-color: #fafafa;\n",
       "  color: #000000;\n",
       "}\n",
       "#T_95027_row3_col8 {\n",
       "  font-size: 6pt;\n",
       "  background-color: #fbfbfb;\n",
       "  color: #000000;\n",
       "}\n",
       "#T_95027_row3_col9 {\n",
       "  font-size: 6pt;\n",
       "  background-color: #fdfdfd;\n",
       "  color: #000000;\n",
       "}\n",
       "#T_95027_row4_col4 {\n",
       "  font-size: 6pt;\n",
       "  background-color: #1b1b1b;\n",
       "  color: #f1f1f1;\n",
       "}\n",
       "#T_95027_row4_col5 {\n",
       "  font-size: 6pt;\n",
       "  background-color: #e0e0e0;\n",
       "  color: #000000;\n",
       "}\n",
       "#T_95027_row4_col11 {\n",
       "  font-size: 6pt;\n",
       "  background-color: #4e4e4e;\n",
       "  color: #f1f1f1;\n",
       "}\n",
       "#T_95027_row4_col14 {\n",
       "  font-size: 6pt;\n",
       "  background-color: #767676;\n",
       "  color: #f1f1f1;\n",
       "}\n",
       "#T_95027_row5_col1 {\n",
       "  font-size: 6pt;\n",
       "  background-color: #fcfcfc;\n",
       "  color: #000000;\n",
       "}\n",
       "#T_95027_row5_col2, #T_95027_row5_col3 {\n",
       "  font-size: 6pt;\n",
       "  background-color: #f6f6f6;\n",
       "  color: #000000;\n",
       "}\n",
       "#T_95027_row5_col4, #T_95027_row7_col7 {\n",
       "  font-size: 6pt;\n",
       "  background-color: #f8f8f8;\n",
       "  color: #000000;\n",
       "}\n",
       "#T_95027_row5_col10, #T_95027_row10_col7 {\n",
       "  font-size: 6pt;\n",
       "  background-color: #e8e8e8;\n",
       "  color: #000000;\n",
       "}\n",
       "#T_95027_row5_col11 {\n",
       "  font-size: 6pt;\n",
       "  background-color: #222222;\n",
       "  color: #f1f1f1;\n",
       "}\n",
       "#T_95027_row5_col13, #T_95027_row6_col12 {\n",
       "  font-size: 6pt;\n",
       "  background-color: #090909;\n",
       "  color: #f1f1f1;\n",
       "}\n",
       "#T_95027_row5_col14 {\n",
       "  font-size: 6pt;\n",
       "  background-color: #d0d0d0;\n",
       "  color: #000000;\n",
       "}\n",
       "#T_95027_row6_col10, #T_95027_row7_col11, #T_95027_row9_col6 {\n",
       "  font-size: 6pt;\n",
       "  background-color: #060606;\n",
       "  color: #f1f1f1;\n",
       "}\n",
       "#T_95027_row6_col13 {\n",
       "  font-size: 6pt;\n",
       "  background-color: #979797;\n",
       "  color: #f1f1f1;\n",
       "}\n",
       "#T_95027_row7_col8 {\n",
       "  font-size: 6pt;\n",
       "  background-color: #b6b6b6;\n",
       "  color: #000000;\n",
       "}\n",
       "#T_95027_row7_col9 {\n",
       "  font-size: 6pt;\n",
       "  background-color: #252525;\n",
       "  color: #f1f1f1;\n",
       "}\n",
       "#T_95027_row7_col12 {\n",
       "  font-size: 6pt;\n",
       "  background-color: #999999;\n",
       "  color: #f1f1f1;\n",
       "}\n",
       "#T_95027_row8_col5 {\n",
       "  font-size: 6pt;\n",
       "  background-color: #f9f9f9;\n",
       "  color: #000000;\n",
       "}\n",
       "#T_95027_row8_col7 {\n",
       "  font-size: 6pt;\n",
       "  background-color: #101010;\n",
       "  color: #f1f1f1;\n",
       "}\n",
       "#T_95027_row8_col9, #T_95027_row9_col9 {\n",
       "  font-size: 6pt;\n",
       "  background-color: #020202;\n",
       "  color: #f1f1f1;\n",
       "}\n",
       "#T_95027_row8_col11 {\n",
       "  font-size: 6pt;\n",
       "  background-color: #545454;\n",
       "  color: #f1f1f1;\n",
       "}\n",
       "#T_95027_row8_col12 {\n",
       "  font-size: 6pt;\n",
       "  background-color: #f1f1f1;\n",
       "  color: #000000;\n",
       "}\n",
       "#T_95027_row9_col5 {\n",
       "  font-size: 6pt;\n",
       "  background-color: #f7f7f7;\n",
       "  color: #000000;\n",
       "}\n",
       "#T_95027_row9_col7 {\n",
       "  font-size: 6pt;\n",
       "  background-color: #030303;\n",
       "  color: #f1f1f1;\n",
       "}\n",
       "#T_95027_row9_col12 {\n",
       "  font-size: 6pt;\n",
       "  background-color: #181818;\n",
       "  color: #f1f1f1;\n",
       "}\n",
       "#T_95027_row9_col13 {\n",
       "  font-size: 6pt;\n",
       "  background-color: #303030;\n",
       "  color: #f1f1f1;\n",
       "}\n",
       "#T_95027_row9_col14 {\n",
       "  font-size: 6pt;\n",
       "  background-color: #a9a9a9;\n",
       "  color: #f1f1f1;\n",
       "}\n",
       "#T_95027_row9_col15 {\n",
       "  font-size: 6pt;\n",
       "  background-color: #fefefe;\n",
       "  color: #000000;\n",
       "}\n",
       "#T_95027_row10_col8, #T_95027_row10_col9 {\n",
       "  font-size: 6pt;\n",
       "  background-color: #bababa;\n",
       "  color: #000000;\n",
       "}\n",
       "#T_95027_row10_col10 {\n",
       "  font-size: 6pt;\n",
       "  background-color: #393939;\n",
       "  color: #f1f1f1;\n",
       "}\n",
       "</style>\n",
       "<table id=\"T_95027\">\n",
       "  <thead>\n",
       "    <tr>\n",
       "      <th class=\"blank level0\" >&nbsp;</th>\n",
       "      <th id=\"T_95027_level0_col0\" class=\"col_heading level0 col0\" >0</th>\n",
       "      <th id=\"T_95027_level0_col1\" class=\"col_heading level0 col1\" >1</th>\n",
       "      <th id=\"T_95027_level0_col2\" class=\"col_heading level0 col2\" >2</th>\n",
       "      <th id=\"T_95027_level0_col3\" class=\"col_heading level0 col3\" >3</th>\n",
       "      <th id=\"T_95027_level0_col4\" class=\"col_heading level0 col4\" >4</th>\n",
       "      <th id=\"T_95027_level0_col5\" class=\"col_heading level0 col5\" >5</th>\n",
       "      <th id=\"T_95027_level0_col6\" class=\"col_heading level0 col6\" >6</th>\n",
       "      <th id=\"T_95027_level0_col7\" class=\"col_heading level0 col7\" >7</th>\n",
       "      <th id=\"T_95027_level0_col8\" class=\"col_heading level0 col8\" >8</th>\n",
       "      <th id=\"T_95027_level0_col9\" class=\"col_heading level0 col9\" >9</th>\n",
       "      <th id=\"T_95027_level0_col10\" class=\"col_heading level0 col10\" >10</th>\n",
       "      <th id=\"T_95027_level0_col11\" class=\"col_heading level0 col11\" >11</th>\n",
       "      <th id=\"T_95027_level0_col12\" class=\"col_heading level0 col12\" >12</th>\n",
       "      <th id=\"T_95027_level0_col13\" class=\"col_heading level0 col13\" >13</th>\n",
       "      <th id=\"T_95027_level0_col14\" class=\"col_heading level0 col14\" >14</th>\n",
       "      <th id=\"T_95027_level0_col15\" class=\"col_heading level0 col15\" >15</th>\n",
       "      <th id=\"T_95027_level0_col16\" class=\"col_heading level0 col16\" >16</th>\n",
       "      <th id=\"T_95027_level0_col17\" class=\"col_heading level0 col17\" >17</th>\n",
       "    </tr>\n",
       "  </thead>\n",
       "  <tbody>\n",
       "    <tr>\n",
       "      <th id=\"T_95027_level0_row0\" class=\"row_heading level0 row0\" >0</th>\n",
       "      <td id=\"T_95027_row0_col0\" class=\"data row0 col0\" >0</td>\n",
       "      <td id=\"T_95027_row0_col1\" class=\"data row0 col1\" >0</td>\n",
       "      <td id=\"T_95027_row0_col2\" class=\"data row0 col2\" >0</td>\n",
       "      <td id=\"T_95027_row0_col3\" class=\"data row0 col3\" >0</td>\n",
       "      <td id=\"T_95027_row0_col4\" class=\"data row0 col4\" >0</td>\n",
       "      <td id=\"T_95027_row0_col5\" class=\"data row0 col5\" >0</td>\n",
       "      <td id=\"T_95027_row0_col6\" class=\"data row0 col6\" >0</td>\n",
       "      <td id=\"T_95027_row0_col7\" class=\"data row0 col7\" >0</td>\n",
       "      <td id=\"T_95027_row0_col8\" class=\"data row0 col8\" >0</td>\n",
       "      <td id=\"T_95027_row0_col9\" class=\"data row0 col9\" >0</td>\n",
       "      <td id=\"T_95027_row0_col10\" class=\"data row0 col10\" >0</td>\n",
       "      <td id=\"T_95027_row0_col11\" class=\"data row0 col11\" >0</td>\n",
       "      <td id=\"T_95027_row0_col12\" class=\"data row0 col12\" >0</td>\n",
       "      <td id=\"T_95027_row0_col13\" class=\"data row0 col13\" >0</td>\n",
       "      <td id=\"T_95027_row0_col14\" class=\"data row0 col14\" >0</td>\n",
       "      <td id=\"T_95027_row0_col15\" class=\"data row0 col15\" >0</td>\n",
       "      <td id=\"T_95027_row0_col16\" class=\"data row0 col16\" >0</td>\n",
       "      <td id=\"T_95027_row0_col17\" class=\"data row0 col17\" >0</td>\n",
       "    </tr>\n",
       "    <tr>\n",
       "      <th id=\"T_95027_level0_row1\" class=\"row_heading level0 row1\" >1</th>\n",
       "      <td id=\"T_95027_row1_col0\" class=\"data row1 col0\" >0</td>\n",
       "      <td id=\"T_95027_row1_col1\" class=\"data row1 col1\" >0</td>\n",
       "      <td id=\"T_95027_row1_col2\" class=\"data row1 col2\" >0</td>\n",
       "      <td id=\"T_95027_row1_col3\" class=\"data row1 col3\" >0</td>\n",
       "      <td id=\"T_95027_row1_col4\" class=\"data row1 col4\" >0</td>\n",
       "      <td id=\"T_95027_row1_col5\" class=\"data row1 col5\" >29</td>\n",
       "      <td id=\"T_95027_row1_col6\" class=\"data row1 col6\" >150</td>\n",
       "      <td id=\"T_95027_row1_col7\" class=\"data row1 col7\" >195</td>\n",
       "      <td id=\"T_95027_row1_col8\" class=\"data row1 col8\" >254</td>\n",
       "      <td id=\"T_95027_row1_col9\" class=\"data row1 col9\" >255</td>\n",
       "      <td id=\"T_95027_row1_col10\" class=\"data row1 col10\" >254</td>\n",
       "      <td id=\"T_95027_row1_col11\" class=\"data row1 col11\" >176</td>\n",
       "      <td id=\"T_95027_row1_col12\" class=\"data row1 col12\" >193</td>\n",
       "      <td id=\"T_95027_row1_col13\" class=\"data row1 col13\" >150</td>\n",
       "      <td id=\"T_95027_row1_col14\" class=\"data row1 col14\" >96</td>\n",
       "      <td id=\"T_95027_row1_col15\" class=\"data row1 col15\" >0</td>\n",
       "      <td id=\"T_95027_row1_col16\" class=\"data row1 col16\" >0</td>\n",
       "      <td id=\"T_95027_row1_col17\" class=\"data row1 col17\" >0</td>\n",
       "    </tr>\n",
       "    <tr>\n",
       "      <th id=\"T_95027_level0_row2\" class=\"row_heading level0 row2\" >2</th>\n",
       "      <td id=\"T_95027_row2_col0\" class=\"data row2 col0\" >0</td>\n",
       "      <td id=\"T_95027_row2_col1\" class=\"data row2 col1\" >0</td>\n",
       "      <td id=\"T_95027_row2_col2\" class=\"data row2 col2\" >0</td>\n",
       "      <td id=\"T_95027_row2_col3\" class=\"data row2 col3\" >48</td>\n",
       "      <td id=\"T_95027_row2_col4\" class=\"data row2 col4\" >166</td>\n",
       "      <td id=\"T_95027_row2_col5\" class=\"data row2 col5\" >224</td>\n",
       "      <td id=\"T_95027_row2_col6\" class=\"data row2 col6\" >253</td>\n",
       "      <td id=\"T_95027_row2_col7\" class=\"data row2 col7\" >253</td>\n",
       "      <td id=\"T_95027_row2_col8\" class=\"data row2 col8\" >234</td>\n",
       "      <td id=\"T_95027_row2_col9\" class=\"data row2 col9\" >196</td>\n",
       "      <td id=\"T_95027_row2_col10\" class=\"data row2 col10\" >253</td>\n",
       "      <td id=\"T_95027_row2_col11\" class=\"data row2 col11\" >253</td>\n",
       "      <td id=\"T_95027_row2_col12\" class=\"data row2 col12\" >253</td>\n",
       "      <td id=\"T_95027_row2_col13\" class=\"data row2 col13\" >253</td>\n",
       "      <td id=\"T_95027_row2_col14\" class=\"data row2 col14\" >233</td>\n",
       "      <td id=\"T_95027_row2_col15\" class=\"data row2 col15\" >0</td>\n",
       "      <td id=\"T_95027_row2_col16\" class=\"data row2 col16\" >0</td>\n",
       "      <td id=\"T_95027_row2_col17\" class=\"data row2 col17\" >0</td>\n",
       "    </tr>\n",
       "    <tr>\n",
       "      <th id=\"T_95027_level0_row3\" class=\"row_heading level0 row3\" >3</th>\n",
       "      <td id=\"T_95027_row3_col0\" class=\"data row3 col0\" >0</td>\n",
       "      <td id=\"T_95027_row3_col1\" class=\"data row3 col1\" >93</td>\n",
       "      <td id=\"T_95027_row3_col2\" class=\"data row3 col2\" >244</td>\n",
       "      <td id=\"T_95027_row3_col3\" class=\"data row3 col3\" >249</td>\n",
       "      <td id=\"T_95027_row3_col4\" class=\"data row3 col4\" >253</td>\n",
       "      <td id=\"T_95027_row3_col5\" class=\"data row3 col5\" >187</td>\n",
       "      <td id=\"T_95027_row3_col6\" class=\"data row3 col6\" >46</td>\n",
       "      <td id=\"T_95027_row3_col7\" class=\"data row3 col7\" >10</td>\n",
       "      <td id=\"T_95027_row3_col8\" class=\"data row3 col8\" >8</td>\n",
       "      <td id=\"T_95027_row3_col9\" class=\"data row3 col9\" >4</td>\n",
       "      <td id=\"T_95027_row3_col10\" class=\"data row3 col10\" >10</td>\n",
       "      <td id=\"T_95027_row3_col11\" class=\"data row3 col11\" >194</td>\n",
       "      <td id=\"T_95027_row3_col12\" class=\"data row3 col12\" >253</td>\n",
       "      <td id=\"T_95027_row3_col13\" class=\"data row3 col13\" >253</td>\n",
       "      <td id=\"T_95027_row3_col14\" class=\"data row3 col14\" >233</td>\n",
       "      <td id=\"T_95027_row3_col15\" class=\"data row3 col15\" >0</td>\n",
       "      <td id=\"T_95027_row3_col16\" class=\"data row3 col16\" >0</td>\n",
       "      <td id=\"T_95027_row3_col17\" class=\"data row3 col17\" >0</td>\n",
       "    </tr>\n",
       "    <tr>\n",
       "      <th id=\"T_95027_level0_row4\" class=\"row_heading level0 row4\" >4</th>\n",
       "      <td id=\"T_95027_row4_col0\" class=\"data row4 col0\" >0</td>\n",
       "      <td id=\"T_95027_row4_col1\" class=\"data row4 col1\" >107</td>\n",
       "      <td id=\"T_95027_row4_col2\" class=\"data row4 col2\" >253</td>\n",
       "      <td id=\"T_95027_row4_col3\" class=\"data row4 col3\" >253</td>\n",
       "      <td id=\"T_95027_row4_col4\" class=\"data row4 col4\" >230</td>\n",
       "      <td id=\"T_95027_row4_col5\" class=\"data row4 col5\" >48</td>\n",
       "      <td id=\"T_95027_row4_col6\" class=\"data row4 col6\" >0</td>\n",
       "      <td id=\"T_95027_row4_col7\" class=\"data row4 col7\" >0</td>\n",
       "      <td id=\"T_95027_row4_col8\" class=\"data row4 col8\" >0</td>\n",
       "      <td id=\"T_95027_row4_col9\" class=\"data row4 col9\" >0</td>\n",
       "      <td id=\"T_95027_row4_col10\" class=\"data row4 col10\" >0</td>\n",
       "      <td id=\"T_95027_row4_col11\" class=\"data row4 col11\" >192</td>\n",
       "      <td id=\"T_95027_row4_col12\" class=\"data row4 col12\" >253</td>\n",
       "      <td id=\"T_95027_row4_col13\" class=\"data row4 col13\" >253</td>\n",
       "      <td id=\"T_95027_row4_col14\" class=\"data row4 col14\" >156</td>\n",
       "      <td id=\"T_95027_row4_col15\" class=\"data row4 col15\" >0</td>\n",
       "      <td id=\"T_95027_row4_col16\" class=\"data row4 col16\" >0</td>\n",
       "      <td id=\"T_95027_row4_col17\" class=\"data row4 col17\" >0</td>\n",
       "    </tr>\n",
       "    <tr>\n",
       "      <th id=\"T_95027_level0_row5\" class=\"row_heading level0 row5\" >5</th>\n",
       "      <td id=\"T_95027_row5_col0\" class=\"data row5 col0\" >0</td>\n",
       "      <td id=\"T_95027_row5_col1\" class=\"data row5 col1\" >3</td>\n",
       "      <td id=\"T_95027_row5_col2\" class=\"data row5 col2\" >20</td>\n",
       "      <td id=\"T_95027_row5_col3\" class=\"data row5 col3\" >20</td>\n",
       "      <td id=\"T_95027_row5_col4\" class=\"data row5 col4\" >15</td>\n",
       "      <td id=\"T_95027_row5_col5\" class=\"data row5 col5\" >0</td>\n",
       "      <td id=\"T_95027_row5_col6\" class=\"data row5 col6\" >0</td>\n",
       "      <td id=\"T_95027_row5_col7\" class=\"data row5 col7\" >0</td>\n",
       "      <td id=\"T_95027_row5_col8\" class=\"data row5 col8\" >0</td>\n",
       "      <td id=\"T_95027_row5_col9\" class=\"data row5 col9\" >0</td>\n",
       "      <td id=\"T_95027_row5_col10\" class=\"data row5 col10\" >43</td>\n",
       "      <td id=\"T_95027_row5_col11\" class=\"data row5 col11\" >224</td>\n",
       "      <td id=\"T_95027_row5_col12\" class=\"data row5 col12\" >253</td>\n",
       "      <td id=\"T_95027_row5_col13\" class=\"data row5 col13\" >245</td>\n",
       "      <td id=\"T_95027_row5_col14\" class=\"data row5 col14\" >74</td>\n",
       "      <td id=\"T_95027_row5_col15\" class=\"data row5 col15\" >0</td>\n",
       "      <td id=\"T_95027_row5_col16\" class=\"data row5 col16\" >0</td>\n",
       "      <td id=\"T_95027_row5_col17\" class=\"data row5 col17\" >0</td>\n",
       "    </tr>\n",
       "    <tr>\n",
       "      <th id=\"T_95027_level0_row6\" class=\"row_heading level0 row6\" >6</th>\n",
       "      <td id=\"T_95027_row6_col0\" class=\"data row6 col0\" >0</td>\n",
       "      <td id=\"T_95027_row6_col1\" class=\"data row6 col1\" >0</td>\n",
       "      <td id=\"T_95027_row6_col2\" class=\"data row6 col2\" >0</td>\n",
       "      <td id=\"T_95027_row6_col3\" class=\"data row6 col3\" >0</td>\n",
       "      <td id=\"T_95027_row6_col4\" class=\"data row6 col4\" >0</td>\n",
       "      <td id=\"T_95027_row6_col5\" class=\"data row6 col5\" >0</td>\n",
       "      <td id=\"T_95027_row6_col6\" class=\"data row6 col6\" >0</td>\n",
       "      <td id=\"T_95027_row6_col7\" class=\"data row6 col7\" >0</td>\n",
       "      <td id=\"T_95027_row6_col8\" class=\"data row6 col8\" >0</td>\n",
       "      <td id=\"T_95027_row6_col9\" class=\"data row6 col9\" >0</td>\n",
       "      <td id=\"T_95027_row6_col10\" class=\"data row6 col10\" >249</td>\n",
       "      <td id=\"T_95027_row6_col11\" class=\"data row6 col11\" >253</td>\n",
       "      <td id=\"T_95027_row6_col12\" class=\"data row6 col12\" >245</td>\n",
       "      <td id=\"T_95027_row6_col13\" class=\"data row6 col13\" >126</td>\n",
       "      <td id=\"T_95027_row6_col14\" class=\"data row6 col14\" >0</td>\n",
       "      <td id=\"T_95027_row6_col15\" class=\"data row6 col15\" >0</td>\n",
       "      <td id=\"T_95027_row6_col16\" class=\"data row6 col16\" >0</td>\n",
       "      <td id=\"T_95027_row6_col17\" class=\"data row6 col17\" >0</td>\n",
       "    </tr>\n",
       "    <tr>\n",
       "      <th id=\"T_95027_level0_row7\" class=\"row_heading level0 row7\" >7</th>\n",
       "      <td id=\"T_95027_row7_col0\" class=\"data row7 col0\" >0</td>\n",
       "      <td id=\"T_95027_row7_col1\" class=\"data row7 col1\" >0</td>\n",
       "      <td id=\"T_95027_row7_col2\" class=\"data row7 col2\" >0</td>\n",
       "      <td id=\"T_95027_row7_col3\" class=\"data row7 col3\" >0</td>\n",
       "      <td id=\"T_95027_row7_col4\" class=\"data row7 col4\" >0</td>\n",
       "      <td id=\"T_95027_row7_col5\" class=\"data row7 col5\" >0</td>\n",
       "      <td id=\"T_95027_row7_col6\" class=\"data row7 col6\" >0</td>\n",
       "      <td id=\"T_95027_row7_col7\" class=\"data row7 col7\" >14</td>\n",
       "      <td id=\"T_95027_row7_col8\" class=\"data row7 col8\" >101</td>\n",
       "      <td id=\"T_95027_row7_col9\" class=\"data row7 col9\" >223</td>\n",
       "      <td id=\"T_95027_row7_col10\" class=\"data row7 col10\" >253</td>\n",
       "      <td id=\"T_95027_row7_col11\" class=\"data row7 col11\" >248</td>\n",
       "      <td id=\"T_95027_row7_col12\" class=\"data row7 col12\" >124</td>\n",
       "      <td id=\"T_95027_row7_col13\" class=\"data row7 col13\" >0</td>\n",
       "      <td id=\"T_95027_row7_col14\" class=\"data row7 col14\" >0</td>\n",
       "      <td id=\"T_95027_row7_col15\" class=\"data row7 col15\" >0</td>\n",
       "      <td id=\"T_95027_row7_col16\" class=\"data row7 col16\" >0</td>\n",
       "      <td id=\"T_95027_row7_col17\" class=\"data row7 col17\" >0</td>\n",
       "    </tr>\n",
       "    <tr>\n",
       "      <th id=\"T_95027_level0_row8\" class=\"row_heading level0 row8\" >8</th>\n",
       "      <td id=\"T_95027_row8_col0\" class=\"data row8 col0\" >0</td>\n",
       "      <td id=\"T_95027_row8_col1\" class=\"data row8 col1\" >0</td>\n",
       "      <td id=\"T_95027_row8_col2\" class=\"data row8 col2\" >0</td>\n",
       "      <td id=\"T_95027_row8_col3\" class=\"data row8 col3\" >0</td>\n",
       "      <td id=\"T_95027_row8_col4\" class=\"data row8 col4\" >0</td>\n",
       "      <td id=\"T_95027_row8_col5\" class=\"data row8 col5\" >11</td>\n",
       "      <td id=\"T_95027_row8_col6\" class=\"data row8 col6\" >166</td>\n",
       "      <td id=\"T_95027_row8_col7\" class=\"data row8 col7\" >239</td>\n",
       "      <td id=\"T_95027_row8_col8\" class=\"data row8 col8\" >253</td>\n",
       "      <td id=\"T_95027_row8_col9\" class=\"data row8 col9\" >253</td>\n",
       "      <td id=\"T_95027_row8_col10\" class=\"data row8 col10\" >253</td>\n",
       "      <td id=\"T_95027_row8_col11\" class=\"data row8 col11\" >187</td>\n",
       "      <td id=\"T_95027_row8_col12\" class=\"data row8 col12\" >30</td>\n",
       "      <td id=\"T_95027_row8_col13\" class=\"data row8 col13\" >0</td>\n",
       "      <td id=\"T_95027_row8_col14\" class=\"data row8 col14\" >0</td>\n",
       "      <td id=\"T_95027_row8_col15\" class=\"data row8 col15\" >0</td>\n",
       "      <td id=\"T_95027_row8_col16\" class=\"data row8 col16\" >0</td>\n",
       "      <td id=\"T_95027_row8_col17\" class=\"data row8 col17\" >0</td>\n",
       "    </tr>\n",
       "    <tr>\n",
       "      <th id=\"T_95027_level0_row9\" class=\"row_heading level0 row9\" >9</th>\n",
       "      <td id=\"T_95027_row9_col0\" class=\"data row9 col0\" >0</td>\n",
       "      <td id=\"T_95027_row9_col1\" class=\"data row9 col1\" >0</td>\n",
       "      <td id=\"T_95027_row9_col2\" class=\"data row9 col2\" >0</td>\n",
       "      <td id=\"T_95027_row9_col3\" class=\"data row9 col3\" >0</td>\n",
       "      <td id=\"T_95027_row9_col4\" class=\"data row9 col4\" >0</td>\n",
       "      <td id=\"T_95027_row9_col5\" class=\"data row9 col5\" >16</td>\n",
       "      <td id=\"T_95027_row9_col6\" class=\"data row9 col6\" >248</td>\n",
       "      <td id=\"T_95027_row9_col7\" class=\"data row9 col7\" >250</td>\n",
       "      <td id=\"T_95027_row9_col8\" class=\"data row9 col8\" >253</td>\n",
       "      <td id=\"T_95027_row9_col9\" class=\"data row9 col9\" >253</td>\n",
       "      <td id=\"T_95027_row9_col10\" class=\"data row9 col10\" >253</td>\n",
       "      <td id=\"T_95027_row9_col11\" class=\"data row9 col11\" >253</td>\n",
       "      <td id=\"T_95027_row9_col12\" class=\"data row9 col12\" >232</td>\n",
       "      <td id=\"T_95027_row9_col13\" class=\"data row9 col13\" >213</td>\n",
       "      <td id=\"T_95027_row9_col14\" class=\"data row9 col14\" >111</td>\n",
       "      <td id=\"T_95027_row9_col15\" class=\"data row9 col15\" >2</td>\n",
       "      <td id=\"T_95027_row9_col16\" class=\"data row9 col16\" >0</td>\n",
       "      <td id=\"T_95027_row9_col17\" class=\"data row9 col17\" >0</td>\n",
       "    </tr>\n",
       "    <tr>\n",
       "      <th id=\"T_95027_level0_row10\" class=\"row_heading level0 row10\" >10</th>\n",
       "      <td id=\"T_95027_row10_col0\" class=\"data row10 col0\" >0</td>\n",
       "      <td id=\"T_95027_row10_col1\" class=\"data row10 col1\" >0</td>\n",
       "      <td id=\"T_95027_row10_col2\" class=\"data row10 col2\" >0</td>\n",
       "      <td id=\"T_95027_row10_col3\" class=\"data row10 col3\" >0</td>\n",
       "      <td id=\"T_95027_row10_col4\" class=\"data row10 col4\" >0</td>\n",
       "      <td id=\"T_95027_row10_col5\" class=\"data row10 col5\" >0</td>\n",
       "      <td id=\"T_95027_row10_col6\" class=\"data row10 col6\" >0</td>\n",
       "      <td id=\"T_95027_row10_col7\" class=\"data row10 col7\" >43</td>\n",
       "      <td id=\"T_95027_row10_col8\" class=\"data row10 col8\" >98</td>\n",
       "      <td id=\"T_95027_row10_col9\" class=\"data row10 col9\" >98</td>\n",
       "      <td id=\"T_95027_row10_col10\" class=\"data row10 col10\" >208</td>\n",
       "      <td id=\"T_95027_row10_col11\" class=\"data row10 col11\" >253</td>\n",
       "      <td id=\"T_95027_row10_col12\" class=\"data row10 col12\" >253</td>\n",
       "      <td id=\"T_95027_row10_col13\" class=\"data row10 col13\" >253</td>\n",
       "      <td id=\"T_95027_row10_col14\" class=\"data row10 col14\" >253</td>\n",
       "      <td id=\"T_95027_row10_col15\" class=\"data row10 col15\" >187</td>\n",
       "      <td id=\"T_95027_row10_col16\" class=\"data row10 col16\" >22</td>\n",
       "      <td id=\"T_95027_row10_col17\" class=\"data row10 col17\" >0</td>\n",
       "    </tr>\n",
       "  </tbody>\n",
       "</table>\n"
      ]
     },
     "execution_count": 6,
     "metadata": {},
     "output_type": "execute_result"
    }
   ],
   "execution_count": 6
  },
  {
   "metadata": {
    "ExecuteTime": {
     "end_time": "2025-04-13T14:31:33.111301Z",
     "start_time": "2025-04-13T14:31:29.606448Z"
    }
   },
   "cell_type": "code",
   "source": [
    "seven_tensors = [tensor(Image.open(o)) for o in sevens]\n",
    "three_tensors = [tensor(Image.open(o)) for o in threes]\n",
    "len(seven_tensors), len(three_tensors)"
   ],
   "id": "8e6cb5411bb5684e",
   "outputs": [
    {
     "data": {
      "text/plain": [
       "(6265, 6131)"
      ]
     },
     "execution_count": 7,
     "metadata": {},
     "output_type": "execute_result"
    }
   ],
   "execution_count": 7
  },
  {
   "metadata": {
    "ExecuteTime": {
     "end_time": "2025-04-13T14:31:33.266177Z",
     "start_time": "2025-04-13T14:31:33.151964Z"
    }
   },
   "cell_type": "code",
   "source": "show_image(three_tensors[1])",
   "id": "53186f498f860710",
   "outputs": [
    {
     "data": {
      "text/plain": [
       "<Axes: >"
      ]
     },
     "execution_count": 8,
     "metadata": {},
     "output_type": "execute_result"
    },
    {
     "data": {
      "text/plain": [
       "<Figure size 100x100 with 1 Axes>"
      ],
      "image/png": "[encoded data removed]"
     },
     "metadata": {},
     "output_type": "display_data"
    }
   ],
   "execution_count": 8
  },
  {
   "metadata": {
    "ExecuteTime": {
     "end_time": "2025-04-13T14:31:33.343707Z",
     "start_time": "2025-04-13T14:31:33.310866Z"
    }
   },
   "cell_type": "code",
   "source": [
    "stacked_sevens = torch.stack(seven_tensors).float()/255\n",
    "stacked_threes = torch.stack(three_tensors).float()/255\n",
    "stacked_threes.shape"
   ],
   "id": "34cd2153ddbb22f5",
   "outputs": [
    {
     "data": {
      "text/plain": [
       "torch.Size([6131, 28, 28])"
      ]
     },
     "execution_count": 9,
     "metadata": {},
     "output_type": "execute_result"
    }
   ],
   "execution_count": 9
  },
  {
   "metadata": {
    "ExecuteTime": {
     "end_time": "2025-04-13T14:31:33.399069Z",
     "start_time": "2025-04-13T14:31:33.394702Z"
    }
   },
   "cell_type": "code",
   "source": "print(\"Rank:\", len(stacked_threes.shape), \"= number of axes\")",
   "id": "85ae3e4ee18335b5",
   "outputs": [
    {
     "name": "stdout",
     "output_type": "stream",
     "text": [
      "Rank: 3 = number of axes\n"
     ]
    }
   ],
   "execution_count": 10
  },
  {
   "metadata": {
    "ExecuteTime": {
     "end_time": "2025-04-13T14:31:33.472677Z",
     "start_time": "2025-04-13T14:31:33.447506Z"
    }
   },
   "cell_type": "code",
   "source": [
    "mean3 = stacked_threes.mean(dim=0)\n",
    "show_image(mean3)"
   ],
   "id": "6124f371cf878a4c",
   "outputs": [
    {
     "data": {
      "text/plain": [
       "<Axes: >"
      ]
     },
     "execution_count": 11,
     "metadata": {},
     "output_type": "execute_result"
    },
    {
     "data": {
      "text/plain": [
       "<Figure size 100x100 with 1 Axes>"
      ],
      "image/png": "[encoded data removed]"
     },
     "metadata": {},
     "output_type": "display_data"
    }
   ],
   "execution_count": 11
  },
  {
   "metadata": {
    "ExecuteTime": {
     "end_time": "2025-04-13T14:31:33.545693Z",
     "start_time": "2025-04-13T14:31:33.525896Z"
    }
   },
   "cell_type": "code",
   "source": [
    "mean7 = stacked_sevens.mean(dim=0)\n",
    "show_image(mean7)"
   ],
   "id": "6ff3f15f0b57723c",
   "outputs": [
    {
     "data": {
      "text/plain": [
       "<Axes: >"
      ]
     },
     "execution_count": 12,
     "metadata": {},
     "output_type": "execute_result"
    },
    {
     "data": {
      "text/plain": [
       "<Figure size 100x100 with 1 Axes>"
      ],
      "image/png": "[encoded data removed]"
     },
     "metadata": {},
     "output_type": "display_data"
    }
   ],
   "execution_count": 12
  },
  {
   "metadata": {
    "ExecuteTime": {
     "end_time": "2025-04-13T14:31:33.617709Z",
     "start_time": "2025-04-13T14:31:33.599312Z"
    }
   },
   "cell_type": "code",
   "source": [
    "a_3 = stacked_threes[1]\n",
    "show_image(a_3)"
   ],
   "id": "20919264ed90dcce",
   "outputs": [
    {
     "data": {
      "text/plain": [
       "<Axes: >"
      ]
     },
     "execution_count": 13,
     "metadata": {},
     "output_type": "execute_result"
    },
    {
     "data": {
      "text/plain": [
       "<Figure size 100x100 with 1 Axes>"
      ],
      "image/png": "[encoded data removed]"
     },
     "metadata": {},
     "output_type": "display_data"
    }
   ],
   "execution_count": 13
  },
  {
   "metadata": {
    "ExecuteTime": {
     "end_time": "2025-04-13T14:31:33.685231Z",
     "start_time": "2025-04-13T14:31:33.674448Z"
    }
   },
   "cell_type": "code",
   "source": [
    "dist_3_abs = (a_3 - mean3).abs().mean()\n",
    "dist_3_sqr = ((a_3 - mean3)**2).mean().sqrt()\n",
    "dist_3_abs, dist_3_sqr"
   ],
   "id": "c5348114c4359b06",
   "outputs": [
    {
     "data": {
      "text/plain": [
       "(tensor(0.1114), tensor(0.2021))"
      ]
     },
     "execution_count": 14,
     "metadata": {},
     "output_type": "execute_result"
    }
   ],
   "execution_count": 14
  },
  {
   "metadata": {
    "ExecuteTime": {
     "end_time": "2025-04-13T14:31:33.748050Z",
     "start_time": "2025-04-13T14:31:33.741544Z"
    }
   },
   "cell_type": "code",
   "source": [
    "dist_7_abs = (a_3 - mean7).abs().mean()\n",
    "dist_7_sqr = ((a_3 - mean7)**2).mean().sqrt()\n",
    "dist_7_abs, dist_7_sqr"
   ],
   "id": "35744d0926daf89c",
   "outputs": [
    {
     "data": {
      "text/plain": [
       "(tensor(0.1586), tensor(0.3021))"
      ]
     },
     "execution_count": 15,
     "metadata": {},
     "output_type": "execute_result"
    }
   ],
   "execution_count": 15
  },
  {
   "metadata": {
    "ExecuteTime": {
     "end_time": "2025-04-13T14:31:33.881601Z",
     "start_time": "2025-04-13T14:31:33.863762Z"
    }
   },
   "cell_type": "code",
   "source": "F.l1_loss(a_3,mean7), F.mse_loss(a_3,mean7).sqrt()",
   "id": "f1d1bfc5115ef39c",
   "outputs": [
    {
     "data": {
      "text/plain": [
       "(tensor(0.1586), tensor(0.3021))"
      ]
     },
     "execution_count": 16,
     "metadata": {},
     "output_type": "execute_result"
    }
   ],
   "execution_count": 16
  },
  {
   "metadata": {
    "ExecuteTime": {
     "end_time": "2025-04-13T14:31:34.565616Z",
     "start_time": "2025-04-13T14:31:33.903665Z"
    }
   },
   "cell_type": "code",
   "source": [
    "valid_3_tens = torch.stack([tensor(Image.open(o)) for o in (path/'valid'/'3').ls().sorted()]).float()/255\n",
    "valid_7_tens = torch.stack([tensor(Image.open(o)) for o in (path/'valid'/'7').ls().sorted()]).float()/255\n",
    "valid_3_tens.shape, valid_7_tens.shape"
   ],
   "id": "3d0a3eba28b73d1d",
   "outputs": [
    {
     "data": {
      "text/plain": [
       "(torch.Size([1010, 28, 28]), torch.Size([1028, 28, 28]))"
      ]
     },
     "execution_count": 17,
     "metadata": {},
     "output_type": "execute_result"
    }
   ],
   "execution_count": 17
  },
  {
   "metadata": {
    "ExecuteTime": {
     "end_time": "2025-04-13T14:31:34.624711Z",
     "start_time": "2025-04-13T14:31:34.621599Z"
    }
   },
   "cell_type": "code",
   "source": [
    "def mnist_distance(a, b):\n",
    "    return (a-b).abs().mean([-1, -2])"
   ],
   "id": "64f6b3c6fcac0a18",
   "outputs": [],
   "execution_count": 18
  },
  {
   "metadata": {
    "ExecuteTime": {
     "end_time": "2025-04-13T14:31:34.681841Z",
     "start_time": "2025-04-13T14:31:34.677526Z"
    }
   },
   "cell_type": "code",
   "source": "mnist_distance(a_3, mean3)",
   "id": "a66f15f5ba0d96d1",
   "outputs": [
    {
     "data": {
      "text/plain": [
       "tensor(0.1114)"
      ]
     },
     "execution_count": 19,
     "metadata": {},
     "output_type": "execute_result"
    }
   ],
   "execution_count": 19
  },
  {
   "metadata": {
    "ExecuteTime": {
     "end_time": "2025-04-13T14:31:34.745823Z",
     "start_time": "2025-04-13T14:31:34.736030Z"
    }
   },
   "cell_type": "code",
   "source": "mnist_distance(valid_3_tens, mean3)",
   "id": "7849a8ca85db38f3",
   "outputs": [
    {
     "data": {
      "text/plain": [
       "tensor([0.1280, 0.1623, 0.1242,  ..., 0.1508, 0.1263, 0.1260])"
      ]
     },
     "execution_count": 20,
     "metadata": {},
     "output_type": "execute_result"
    }
   ],
   "execution_count": 20
  },
  {
   "metadata": {
    "ExecuteTime": {
     "end_time": "2025-04-13T14:31:34.857339Z",
     "start_time": "2025-04-13T14:31:34.853339Z"
    }
   },
   "cell_type": "code",
   "source": [
    "def is_3(x):\n",
    "    return mnist_distance(x,mean3) < mnist_distance(x,mean7)"
   ],
   "id": "9963aa799b17010b",
   "outputs": [],
   "execution_count": 21
  },
  {
   "metadata": {
    "ExecuteTime": {
     "end_time": "2025-04-13T14:31:34.928124Z",
     "start_time": "2025-04-13T14:31:34.917607Z"
    }
   },
   "cell_type": "code",
   "source": "is_3(valid_3_tens)",
   "id": "df16deb16e71051d",
   "outputs": [
    {
     "data": {
      "text/plain": [
       "tensor([ True,  True,  True,  ..., False,  True,  True])"
      ]
     },
     "execution_count": 22,
     "metadata": {},
     "output_type": "execute_result"
    }
   ],
   "execution_count": 22
  },
  {
   "metadata": {
    "ExecuteTime": {
     "end_time": "2025-04-13T14:31:34.944190Z",
     "start_time": "2025-04-13T14:31:34.934133Z"
    }
   },
   "cell_type": "code",
   "source": [
    "accuracy_3s = is_3(valid_3_tens).float().mean()\n",
    "accuracy_7s = (1 - is_3(valid_7_tens).float()).mean()\n",
    "accuracy_3s, accuracy_7s, (accuracy_3s + accuracy_7s)/2"
   ],
   "id": "8b2f9a20f73e2b7e",
   "outputs": [
    {
     "data": {
      "text/plain": [
       "(tensor(0.9168), tensor(0.9854), tensor(0.9511))"
      ]
     },
     "execution_count": 23,
     "metadata": {},
     "output_type": "execute_result"
    }
   ],
   "execution_count": 23
  },
  {
   "metadata": {
    "ExecuteTime": {
     "end_time": "2025-04-13T14:31:35.015785Z",
     "start_time": "2025-04-13T14:31:35.002064Z"
    }
   },
   "cell_type": "code",
   "source": [
    "train_x = torch.cat((stacked_threes, stacked_sevens)).view(-1, 28 * 28)\n",
    "train_y = tensor([1]*len(threes) + [0]*len(sevens)).unsqueeze(1)\n",
    "train_x.shape, train_y.shape"
   ],
   "id": "98ff2fd4a33a64bb",
   "outputs": [
    {
     "data": {
      "text/plain": [
       "(torch.Size([12396, 784]), torch.Size([12396, 1]))"
      ]
     },
     "execution_count": 24,
     "metadata": {},
     "output_type": "execute_result"
    }
   ],
   "execution_count": 24
  },
  {
   "metadata": {
    "ExecuteTime": {
     "end_time": "2025-04-13T14:31:35.104710Z",
     "start_time": "2025-04-13T14:31:35.069500Z"
    }
   },
   "cell_type": "code",
   "source": [
    "dset = list(zip(train_x, train_y))\n",
    "valid_x = torch.cat((valid_3_tens, valid_7_tens)).view(-1, 28 * 28)\n",
    "valid_y = tensor([1]*len(valid_3_tens) + [0]*len(valid_7_tens)).unsqueeze(1)\n",
    "valid_dset = list(zip(valid_x, valid_y))"
   ],
   "id": "59c5829e2b0f68f7",
   "outputs": [],
   "execution_count": 25
  },
  {
   "metadata": {
    "ExecuteTime": {
     "end_time": "2025-04-13T14:31:35.181145Z",
     "start_time": "2025-04-13T14:31:35.171990Z"
    }
   },
   "cell_type": "code",
   "source": [
    "def init_params(size, std=1.0):\n",
    "    return (torch.randn(size) * std).requires_grad_()\n",
    "\n",
    "weights = init_params((28*28, 1))\n",
    "bias = init_params(1)\n",
    "weights.shape"
   ],
   "id": "35e75b9099d4c17b",
   "outputs": [
    {
     "data": {
      "text/plain": [
       "torch.Size([784, 1])"
      ]
     },
     "execution_count": 26,
     "metadata": {},
     "output_type": "execute_result"
    }
   ],
   "execution_count": 26
  },
  {
   "metadata": {
    "ExecuteTime": {
     "end_time": "2025-04-13T14:31:35.262309Z",
     "start_time": "2025-04-13T14:31:35.253675Z"
    }
   },
   "cell_type": "code",
   "source": "(train_x[0]*weights.T).sum() + bias",
   "id": "2f5f72558b43384a",
   "outputs": [
    {
     "data": {
      "text/plain": [
       "tensor([-1.2459], grad_fn=<AddBackward0>)"
      ]
     },
     "execution_count": 27,
     "metadata": {},
     "output_type": "execute_result"
    }
   ],
   "execution_count": 27
  },
  {
   "metadata": {
    "ExecuteTime": {
     "end_time": "2025-04-13T14:31:35.340151Z",
     "start_time": "2025-04-13T14:31:35.335994Z"
    }
   },
   "cell_type": "code",
   "source": [
    "def linear1(xb):\n",
    "    return xb@weights + bias"
   ],
   "id": "ae82bf46fcedc791",
   "outputs": [],
   "execution_count": 28
  },
  {
   "metadata": {
    "ExecuteTime": {
     "end_time": "2025-04-13T14:31:35.423029Z",
     "start_time": "2025-04-13T14:31:35.413485Z"
    }
   },
   "cell_type": "code",
   "source": [
    "preds = linear1(train_x)\n",
    "preds.shape, preds[0]"
   ],
   "id": "5a2ae67097ad4ef5",
   "outputs": [
    {
     "data": {
      "text/plain": [
       "(torch.Size([12396, 1]), tensor([-1.2459], grad_fn=<SelectBackward0>))"
      ]
     },
     "execution_count": 29,
     "metadata": {},
     "output_type": "execute_result"
    }
   ],
   "execution_count": 29
  },
  {
   "metadata": {
    "ExecuteTime": {
     "end_time": "2025-04-13T14:31:35.500846Z",
     "start_time": "2025-04-13T14:31:35.495530Z"
    }
   },
   "cell_type": "code",
   "source": [
    "corrects = (preds>0.0).float() == train_y\n",
    "corrects.float().mean().item()"
   ],
   "id": "bd0f0eee2c2624b5",
   "outputs": [
    {
     "data": {
      "text/plain": [
       "0.4267505705356598"
      ]
     },
     "execution_count": 30,
     "metadata": {},
     "output_type": "execute_result"
    }
   ],
   "execution_count": 30
  },
  {
   "metadata": {
    "ExecuteTime": {
     "end_time": "2025-04-13T14:31:35.578050Z",
     "start_time": "2025-04-13T14:31:35.573911Z"
    }
   },
   "cell_type": "code",
   "source": [
    "def mnist_loss(predictions, targets):\n",
    "    predictions = predictions.sigmoid()\n",
    "    return torch.where(targets==1, 1-predictions, predictions).mean()"
   ],
   "id": "d2d1c230f4c50c4e",
   "outputs": [],
   "execution_count": 31
  },
  {
   "metadata": {
    "ExecuteTime": {
     "end_time": "2025-04-13T14:31:35.746291Z",
     "start_time": "2025-04-13T14:31:35.652996Z"
    }
   },
   "cell_type": "code",
   "source": [
    "x = torch.arange(-5, 5, 0.1)\n",
    "plt.figure(figsize=(4,3))\n",
    "sns.lineplot(x=x, y=torch.sigmoid(x))"
   ],
   "id": "865640d3dc99be67",
   "outputs": [
    {
     "data": {
      "text/plain": [
       "<Axes: xlabel='None', ylabel='None'>"
      ]
     },
     "execution_count": 32,
     "metadata": {},
     "output_type": "execute_result"
    },
    {
     "data": {
      "text/plain": [
       "<Figure size 400x300 with 1 Axes>"
      ],
      "image/png": "[encoded data removed]"
     },
     "metadata": {},
     "output_type": "display_data"
    }
   ],
   "execution_count": 32
  },
  {
   "metadata": {
    "ExecuteTime": {
     "end_time": "2025-04-13T14:31:35.854948Z",
     "start_time": "2025-04-13T14:31:35.827579Z"
    }
   },
   "cell_type": "code",
   "source": [
    "weights = init_params((28*28, 1))\n",
    "bias = init_params(1)\n",
    "\n",
    "dl = DataLoader(dset, batch_size=256, shuffle=True)\n",
    "xb,yb = first(dl)\n",
    "xb.shape, yb.shape"
   ],
   "id": "9681cc2912e2aa0c",
   "outputs": [
    {
     "data": {
      "text/plain": [
       "(torch.Size([256, 784]), torch.Size([256, 1]))"
      ]
     },
     "execution_count": 33,
     "metadata": {},
     "output_type": "execute_result"
    }
   ],
   "execution_count": 33
  },
  {
   "metadata": {
    "ExecuteTime": {
     "end_time": "2025-04-13T14:31:35.933420Z",
     "start_time": "2025-04-13T14:31:35.929681Z"
    }
   },
   "cell_type": "code",
   "source": "valid_dl = DataLoader(valid_dset, batch_size=256)",
   "id": "d6be140718de8ba8",
   "outputs": [],
   "execution_count": 34
  },
  {
   "metadata": {
    "ExecuteTime": {
     "end_time": "2025-04-13T14:31:36.085334Z",
     "start_time": "2025-04-13T14:31:36.080441Z"
    }
   },
   "cell_type": "code",
   "source": [
    "batch = train_x[:4]\n",
    "batch.shape"
   ],
   "id": "2254ff97a70b104f",
   "outputs": [
    {
     "data": {
      "text/plain": [
       "torch.Size([4, 784])"
      ]
     },
     "execution_count": 35,
     "metadata": {},
     "output_type": "execute_result"
    }
   ],
   "execution_count": 35
  },
  {
   "metadata": {
    "ExecuteTime": {
     "end_time": "2025-04-13T14:31:36.100743Z",
     "start_time": "2025-04-13T14:31:36.095573Z"
    }
   },
   "cell_type": "code",
   "source": [
    "preds = linear1(batch)\n",
    "print(preds)"
   ],
   "id": "c78b7b6f024a789b",
   "outputs": [
    {
     "name": "stdout",
     "output_type": "stream",
     "text": [
      "tensor([[10.1536],\n",
      "        [14.7960],\n",
      "        [ 3.6628],\n",
      "        [14.2396]], grad_fn=<AddBackward0>)\n"
     ]
    }
   ],
   "execution_count": 36
  },
  {
   "metadata": {
    "ExecuteTime": {
     "end_time": "2025-04-13T14:31:36.185714Z",
     "start_time": "2025-04-13T14:31:36.174776Z"
    }
   },
   "cell_type": "code",
   "source": [
    "loss = mnist_loss(preds, train_y[:4])\n",
    "loss"
   ],
   "id": "290dabe6c89d3e21",
   "outputs": [
    {
     "data": {
      "text/plain": [
       "tensor(0.0063, grad_fn=<MeanBackward0>)"
      ]
     },
     "execution_count": 37,
     "metadata": {},
     "output_type": "execute_result"
    }
   ],
   "execution_count": 37
  },
  {
   "metadata": {
    "ExecuteTime": {
     "end_time": "2025-04-13T14:31:36.276410Z",
     "start_time": "2025-04-13T14:31:36.264776Z"
    }
   },
   "cell_type": "code",
   "source": [
    "loss.backward()\n",
    "weights.grad.shape, weights.grad.mean(), bias.grad"
   ],
   "id": "4e5fee2ec4720f22",
   "outputs": [
    {
     "data": {
      "text/plain": [
       "(torch.Size([784, 1]), tensor(-0.0009), tensor([-0.0061]))"
      ]
     },
     "execution_count": 38,
     "metadata": {},
     "output_type": "execute_result"
    }
   ],
   "execution_count": 38
  },
  {
   "metadata": {
    "ExecuteTime": {
     "end_time": "2025-04-13T14:31:36.354882Z",
     "start_time": "2025-04-13T14:31:36.351723Z"
    }
   },
   "cell_type": "code",
   "source": [
    "def calc_grad(xb, yb, model):\n",
    "    preds = model(xb)\n",
    "    loss = mnist_loss(preds, yb)\n",
    "    loss.backward()"
   ],
   "id": "6653b756fa67ee63",
   "outputs": [],
   "execution_count": 39
  },
  {
   "metadata": {
    "ExecuteTime": {
     "end_time": "2025-04-13T14:31:36.520912Z",
     "start_time": "2025-04-13T14:31:36.503566Z"
    }
   },
   "cell_type": "code",
   "source": [
    "calc_grad(batch, train_y[:4], linear1)\n",
    "weights.grad.mean(), bias.grad"
   ],
   "id": "2686d2c09ad91832",
   "outputs": [
    {
     "data": {
      "text/plain": [
       "(tensor(-0.0018), tensor([-0.0122]))"
      ]
     },
     "execution_count": 40,
     "metadata": {},
     "output_type": "execute_result"
    }
   ],
   "execution_count": 40
  },
  {
   "metadata": {
    "ExecuteTime": {
     "end_time": "2025-04-13T14:31:36.532604Z",
     "start_time": "2025-04-13T14:31:36.527533Z"
    }
   },
   "cell_type": "code",
   "source": [
    "weights.grad.zero_()\n",
    "bias.grad.zero_()"
   ],
   "id": "ba25159cf58769ac",
   "outputs": [
    {
     "data": {
      "text/plain": [
       "tensor([0.])"
      ]
     },
     "execution_count": 41,
     "metadata": {},
     "output_type": "execute_result"
    }
   ],
   "execution_count": 41
  },
  {
   "metadata": {
    "ExecuteTime": {
     "end_time": "2025-04-13T14:31:36.609377Z",
     "start_time": "2025-04-13T14:31:36.606024Z"
    }
   },
   "cell_type": "code",
   "source": [
    "def train_epoch(model, lr, params):\n",
    "    for xb,yb in dl:\n",
    "        calc_grad(xb, yb, model)\n",
    "        for p in params:\n",
    "            p.data -= p.grad*lr\n",
    "            p.grad.zero_()"
   ],
   "id": "e7e5c903760cb1bd",
   "outputs": [],
   "execution_count": 42
  },
  {
   "metadata": {
    "ExecuteTime": {
     "end_time": "2025-04-13T14:31:36.689084Z",
     "start_time": "2025-04-13T14:31:36.685395Z"
    }
   },
   "cell_type": "code",
   "source": [
    "z = (preds>0.5).float() == train_y[:4]\n",
    "print(z)"
   ],
   "id": "a1862f70637d19c6",
   "outputs": [
    {
     "name": "stdout",
     "output_type": "stream",
     "text": [
      "tensor([[True],\n",
      "        [True],\n",
      "        [True],\n",
      "        [True]])\n"
     ]
    }
   ],
   "execution_count": 43
  },
  {
   "metadata": {
    "ExecuteTime": {
     "end_time": "2025-04-13T14:31:36.765546Z",
     "start_time": "2025-04-13T14:31:36.761974Z"
    }
   },
   "cell_type": "code",
   "source": [
    "def batch_accuracy(xb, yb):\n",
    "    preds = xb.sigmoid()\n",
    "    correct = (preds>0.5) == yb\n",
    "    return correct.float().mean()"
   ],
   "id": "1bfa292a8ba54ed3",
   "outputs": [],
   "execution_count": 44
  },
  {
   "metadata": {
    "ExecuteTime": {
     "end_time": "2025-04-13T14:31:36.847568Z",
     "start_time": "2025-04-13T14:31:36.841574Z"
    }
   },
   "cell_type": "code",
   "source": "batch_accuracy(linear1(batch), train_y[:4])",
   "id": "42d1213d3ec33454",
   "outputs": [
    {
     "data": {
      "text/plain": [
       "tensor(1.)"
      ]
     },
     "execution_count": 45,
     "metadata": {},
     "output_type": "execute_result"
    }
   ],
   "execution_count": 45
  },
  {
   "metadata": {
    "ExecuteTime": {
     "end_time": "2025-04-13T14:31:36.997628Z",
     "start_time": "2025-04-13T14:31:36.993616Z"
    }
   },
   "cell_type": "code",
   "source": [
    "def validate_epoch(model):\n",
    "    accs = [batch_accuracy(model(xb), yb) for xb,yb in valid_dl]\n",
    "    return round(torch.stack(accs).mean().item(), 4)"
   ],
   "id": "24bbcd97d34596eb",
   "outputs": [],
   "execution_count": 46
  },
  {
   "metadata": {
    "ExecuteTime": {
     "end_time": "2025-04-13T14:31:37.025436Z",
     "start_time": "2025-04-13T14:31:37.006669Z"
    }
   },
   "cell_type": "code",
   "source": "validate_epoch(linear1)",
   "id": "fb9a0c17df214ae",
   "outputs": [
    {
     "data": {
      "text/plain": [
       "0.6143"
      ]
     },
     "execution_count": 47,
     "metadata": {},
     "output_type": "execute_result"
    }
   ],
   "execution_count": 47
  },
  {
   "metadata": {
    "ExecuteTime": {
     "end_time": "2025-04-13T14:31:37.210020Z",
     "start_time": "2025-04-13T14:31:37.107766Z"
    }
   },
   "cell_type": "code",
   "source": [
    "lr = 1.\n",
    "params = weights, bias\n",
    "train_epoch(linear1, lr, params)\n",
    "validate_epoch(linear1)"
   ],
   "id": "c6cd1df2d7ef411d",
   "outputs": [
    {
     "data": {
      "text/plain": [
       "0.9152"
      ]
     },
     "execution_count": 48,
     "metadata": {},
     "output_type": "execute_result"
    }
   ],
   "execution_count": 48
  },
  {
   "metadata": {
    "ExecuteTime": {
     "end_time": "2025-04-13T14:31:38.904964Z",
     "start_time": "2025-04-13T14:31:37.291017Z"
    }
   },
   "cell_type": "code",
   "source": [
    "for i in range(20):\n",
    "    train_epoch(linear1, lr, params)\n",
    "    print(validate_epoch(linear1), end=' ')"
   ],
   "id": "cea49f2d904349c4",
   "outputs": [
    {
     "name": "stdout",
     "output_type": "stream",
     "text": [
      "0.9388 0.9481 0.9525 0.9569 0.9608 0.9623 0.9648 0.9672 0.9682 0.9687 0.9687 0.9692 0.9701 0.9706 0.9711 0.9711 0.9716 0.9721 0.9745 0.9741 "
     ]
    }
   ],
   "execution_count": 49
  },
  {
   "metadata": {},
   "cell_type": "markdown",
   "source": "# Optimizer",
   "id": "ebd0319c93af4889"
  },
  {
   "metadata": {
    "ExecuteTime": {
     "end_time": "2025-04-13T14:31:39.008994Z",
     "start_time": "2025-04-13T14:31:38.992556Z"
    }
   },
   "cell_type": "code",
   "source": [
    "linear_model = nn.Linear(28*28, 1)\n",
    "w,b = linear_model.parameters()\n",
    "w.shape, b.shape"
   ],
   "id": "6d64f426e884526f",
   "outputs": [
    {
     "data": {
      "text/plain": [
       "(torch.Size([1, 784]), torch.Size([1]))"
      ]
     },
     "execution_count": 50,
     "metadata": {},
     "output_type": "execute_result"
    }
   ],
   "execution_count": 50
  },
  {
   "metadata": {
    "ExecuteTime": {
     "end_time": "2025-04-13T14:31:39.099250Z",
     "start_time": "2025-04-13T14:31:39.095971Z"
    }
   },
   "cell_type": "code",
   "source": [
    "class BasicOptim:\n",
    "    def __init__(self, params, lr):\n",
    "        self.params = list(params)\n",
    "        self.lr = lr\n",
    "\n",
    "    def step(self, *args, **kwargs):\n",
    "        for p in self.params:\n",
    "            p.data -= p.grad*self.lr\n",
    "\n",
    "    def zero_grad(self, *args, **kwargs):\n",
    "        for p in self.params:\n",
    "            p.grad = None"
   ],
   "id": "8606f3d2c41a0d7a",
   "outputs": [],
   "execution_count": 51
  },
  {
   "metadata": {
    "ExecuteTime": {
     "end_time": "2025-04-13T14:31:39.302249Z",
     "start_time": "2025-04-13T14:31:39.298793Z"
    }
   },
   "cell_type": "code",
   "source": "opt = BasicOptim(linear_model.parameters(), lr)",
   "id": "20d7f87657465a72",
   "outputs": [],
   "execution_count": 52
  },
  {
   "metadata": {
    "ExecuteTime": {
     "end_time": "2025-04-13T14:31:39.390046Z",
     "start_time": "2025-04-13T14:31:39.386173Z"
    }
   },
   "cell_type": "code",
   "source": [
    "def train_epoch(model):\n",
    "    for xb,yb in dl:\n",
    "        calc_grad(xb, yb, model)\n",
    "        opt.step()\n",
    "        opt.zero_grad()"
   ],
   "id": "42a900eac7e6e928",
   "outputs": [],
   "execution_count": 53
  },
  {
   "metadata": {
    "ExecuteTime": {
     "end_time": "2025-04-13T14:31:39.578310Z",
     "start_time": "2025-04-13T14:31:39.560933Z"
    }
   },
   "cell_type": "code",
   "source": "validate_epoch(linear_model)",
   "id": "48d2182d90693b39",
   "outputs": [
    {
     "data": {
      "text/plain": [
       "0.7622"
      ]
     },
     "execution_count": 54,
     "metadata": {},
     "output_type": "execute_result"
    }
   ],
   "execution_count": 54
  },
  {
   "metadata": {
    "ExecuteTime": {
     "end_time": "2025-04-13T14:31:39.586256Z",
     "start_time": "2025-04-13T14:31:39.583372Z"
    }
   },
   "cell_type": "code",
   "source": [
    "def train_model(model, epochs):\n",
    "    for i in range(epochs):\n",
    "        train_epoch(model)\n",
    "        print(validate_epoch(model), end=' ')"
   ],
   "id": "31674dd0e68ce1cd",
   "outputs": [],
   "execution_count": 55
  },
  {
   "metadata": {
    "ExecuteTime": {
     "end_time": "2025-04-13T14:31:41.470676Z",
     "start_time": "2025-04-13T14:31:39.759798Z"
    }
   },
   "cell_type": "code",
   "source": "train_model(linear_model, 20)",
   "id": "47948c92d475240f",
   "outputs": [
    {
     "name": "stdout",
     "output_type": "stream",
     "text": [
      "0.9711 0.9765 0.976 0.978 0.978 0.9795 0.9795 0.9795 0.9799 0.9799 0.9799 0.9809 0.9809 0.9809 0.9819 0.9814 0.9819 0.9819 0.9819 0.9819 "
     ]
    }
   ],
   "execution_count": 56
  },
  {
   "metadata": {
    "ExecuteTime": {
     "end_time": "2025-04-13T14:31:43.277831Z",
     "start_time": "2025-04-13T14:31:41.524328Z"
    }
   },
   "cell_type": "code",
   "source": [
    "linear_model = nn.Linear(28*28, 1)\n",
    "opt = SGD(linear_model.parameters(), lr)\n",
    "train_model(linear_model, 20)"
   ],
   "id": "b14a0a21bd14c396",
   "outputs": [
    {
     "name": "stdout",
     "output_type": "stream",
     "text": [
      "0.9711 0.9765 0.9775 0.978 0.979 0.9799 0.979 0.9799 0.9799 0.9804 0.9809 0.9814 0.9814 0.9829 0.9814 0.9829 0.9819 0.9824 0.9824 0.9824 "
     ]
    }
   ],
   "execution_count": 57
  },
  {
   "metadata": {
    "ExecuteTime": {
     "end_time": "2025-04-13T14:31:43.365356Z",
     "start_time": "2025-04-13T14:31:43.361794Z"
    }
   },
   "cell_type": "code",
   "source": "dls = DataLoaders(dl, valid_dl)",
   "id": "ec1118f41dff71e4",
   "outputs": [],
   "execution_count": 58
  },
  {
   "metadata": {
    "ExecuteTime": {
     "end_time": "2025-04-13T14:31:43.458084Z",
     "start_time": "2025-04-13T14:31:43.453907Z"
    }
   },
   "cell_type": "code",
   "source": "learn = Learner(dls, nn.Linear(28*28, 1), opt_func=SGD, loss_func=mnist_loss, metrics=batch_accuracy)",
   "id": "6da95075293a71d",
   "outputs": [],
   "execution_count": 59
  },
  {
   "metadata": {
    "ExecuteTime": {
     "end_time": "2025-04-13T14:31:45.195198Z",
     "start_time": "2025-04-13T14:31:43.547385Z"
    }
   },
   "cell_type": "code",
   "source": "learn.fit(10, lr=lr)",
   "id": "898784bc6e886440",
   "outputs": [
    {
     "data": {
      "text/plain": [
       "<IPython.core.display.HTML object>"
      ],
      "text/html": [
       "\n",
       "<style>\n",
       "    /* Turns off some styling */\n",
       "    progress {\n",
       "        /* gets rid of default border in Firefox and Opera. */\n",
       "        border: none;\n",
       "        /* Needs to be in here for Safari polyfill so background images work as expected. */\n",
       "        background-size: auto;\n",
       "    }\n",
       "    progress:not([value]), progress:not([value])::-webkit-progress-bar {\n",
       "        background: repeating-linear-gradient(45deg, #7e7e7e, #7e7e7e 10px, #5c5c5c 10px, #5c5c5c 20px);\n",
       "    }\n",
       "    .progress-bar-interrupted, .progress-bar-interrupted::-webkit-progress-bar {\n",
       "        background: #F44336;\n",
       "    }\n",
       "</style>\n"
      ]
     },
     "metadata": {},
     "output_type": "display_data"
    },
    {
     "data": {
      "text/plain": [
       "<IPython.core.display.HTML object>"
      ],
      "text/html": [
       "<table border=\"1\" class=\"dataframe\">\n",
       "  <thead>\n",
       "    <tr style=\"text-align: left;\">\n",
       "      <th>epoch</th>\n",
       "      <th>train_loss</th>\n",
       "      <th>valid_loss</th>\n",
       "      <th>batch_accuracy</th>\n",
       "      <th>time</th>\n",
       "    </tr>\n",
       "  </thead>\n",
       "  <tbody>\n",
       "    <tr>\n",
       "      <td>0</td>\n",
       "      <td>0.060249</td>\n",
       "      <td>0.041077</td>\n",
       "      <td>0.970559</td>\n",
       "      <td>00:00</td>\n",
       "    </tr>\n",
       "    <tr>\n",
       "      <td>1</td>\n",
       "      <td>0.040640</td>\n",
       "      <td>0.035091</td>\n",
       "      <td>0.975466</td>\n",
       "      <td>00:00</td>\n",
       "    </tr>\n",
       "    <tr>\n",
       "      <td>2</td>\n",
       "      <td>0.032497</td>\n",
       "      <td>0.032098</td>\n",
       "      <td>0.976448</td>\n",
       "      <td>00:00</td>\n",
       "    </tr>\n",
       "    <tr>\n",
       "      <td>3</td>\n",
       "      <td>0.028295</td>\n",
       "      <td>0.029757</td>\n",
       "      <td>0.976938</td>\n",
       "      <td>00:00</td>\n",
       "    </tr>\n",
       "    <tr>\n",
       "      <td>4</td>\n",
       "      <td>0.025757</td>\n",
       "      <td>0.028321</td>\n",
       "      <td>0.978410</td>\n",
       "      <td>00:00</td>\n",
       "    </tr>\n",
       "    <tr>\n",
       "      <td>5</td>\n",
       "      <td>0.023807</td>\n",
       "      <td>0.026956</td>\n",
       "      <td>0.978410</td>\n",
       "      <td>00:00</td>\n",
       "    </tr>\n",
       "    <tr>\n",
       "      <td>6</td>\n",
       "      <td>0.022446</td>\n",
       "      <td>0.026718</td>\n",
       "      <td>0.978901</td>\n",
       "      <td>00:00</td>\n",
       "    </tr>\n",
       "    <tr>\n",
       "      <td>7</td>\n",
       "      <td>0.021572</td>\n",
       "      <td>0.025515</td>\n",
       "      <td>0.979882</td>\n",
       "      <td>00:00</td>\n",
       "    </tr>\n",
       "    <tr>\n",
       "      <td>8</td>\n",
       "      <td>0.020702</td>\n",
       "      <td>0.025642</td>\n",
       "      <td>0.979882</td>\n",
       "      <td>00:00</td>\n",
       "    </tr>\n",
       "    <tr>\n",
       "      <td>9</td>\n",
       "      <td>0.020209</td>\n",
       "      <td>0.024406</td>\n",
       "      <td>0.980373</td>\n",
       "      <td>00:00</td>\n",
       "    </tr>\n",
       "  </tbody>\n",
       "</table>"
      ]
     },
     "metadata": {},
     "output_type": "display_data"
    }
   ],
   "execution_count": 60
  },
  {
   "metadata": {
    "ExecuteTime": {
     "end_time": "2025-04-13T16:34:02.059745Z",
     "start_time": "2025-04-13T16:34:02.055579Z"
    }
   },
   "cell_type": "code",
   "source": [
    "simple_net = nn.Sequential(\n",
    "    nn.Linear(28*28, 10),\n",
    "    nn.ReLU(),\n",
    "    nn.Linear(10, 1),\n",
    ")"
   ],
   "id": "5ed460d1e89564a",
   "outputs": [],
   "execution_count": 96
  },
  {
   "metadata": {
    "ExecuteTime": {
     "end_time": "2025-04-13T16:34:09.492141Z",
     "start_time": "2025-04-13T16:34:03.538592Z"
    }
   },
   "cell_type": "code",
   "source": [
    "learn = Learner(dls, simple_net, opt_func=SGD, loss_func=mnist_loss, metrics=batch_accuracy)\n",
    "learn.fit(40, 0.1)"
   ],
   "id": "ec0fe267d4069dfe",
   "outputs": [
    {
     "data": {
      "text/plain": [
       "<IPython.core.display.HTML object>"
      ],
      "text/html": [
       "\n",
       "<style>\n",
       "    /* Turns off some styling */\n",
       "    progress {\n",
       "        /* gets rid of default border in Firefox and Opera. */\n",
       "        border: none;\n",
       "        /* Needs to be in here for Safari polyfill so background images work as expected. */\n",
       "        background-size: auto;\n",
       "    }\n",
       "    progress:not([value]), progress:not([value])::-webkit-progress-bar {\n",
       "        background: repeating-linear-gradient(45deg, #7e7e7e, #7e7e7e 10px, #5c5c5c 10px, #5c5c5c 20px);\n",
       "    }\n",
       "    .progress-bar-interrupted, .progress-bar-interrupted::-webkit-progress-bar {\n",
       "        background: #F44336;\n",
       "    }\n",
       "</style>\n"
      ]
     },
     "metadata": {},
     "output_type": "display_data"
    },
    {
     "data": {
      "text/plain": [
       "<IPython.core.display.HTML object>"
      ],
      "text/html": [
       "<table border=\"1\" class=\"dataframe\">\n",
       "  <thead>\n",
       "    <tr style=\"text-align: left;\">\n",
       "      <th>epoch</th>\n",
       "      <th>train_loss</th>\n",
       "      <th>valid_loss</th>\n",
       "      <th>batch_accuracy</th>\n",
       "      <th>time</th>\n",
       "    </tr>\n",
       "  </thead>\n",
       "  <tbody>\n",
       "    <tr>\n",
       "      <td>0</td>\n",
       "      <td>0.207773</td>\n",
       "      <td>0.086326</td>\n",
       "      <td>0.962709</td>\n",
       "      <td>00:00</td>\n",
       "    </tr>\n",
       "    <tr>\n",
       "      <td>1</td>\n",
       "      <td>0.102356</td>\n",
       "      <td>0.053720</td>\n",
       "      <td>0.967615</td>\n",
       "      <td>00:00</td>\n",
       "    </tr>\n",
       "    <tr>\n",
       "      <td>2</td>\n",
       "      <td>0.064595</td>\n",
       "      <td>0.044554</td>\n",
       "      <td>0.969087</td>\n",
       "      <td>00:00</td>\n",
       "    </tr>\n",
       "    <tr>\n",
       "      <td>3</td>\n",
       "      <td>0.047438</td>\n",
       "      <td>0.039785</td>\n",
       "      <td>0.970559</td>\n",
       "      <td>00:00</td>\n",
       "    </tr>\n",
       "    <tr>\n",
       "      <td>4</td>\n",
       "      <td>0.038448</td>\n",
       "      <td>0.037086</td>\n",
       "      <td>0.970069</td>\n",
       "      <td>00:00</td>\n",
       "    </tr>\n",
       "    <tr>\n",
       "      <td>5</td>\n",
       "      <td>0.034360</td>\n",
       "      <td>0.035173</td>\n",
       "      <td>0.972031</td>\n",
       "      <td>00:00</td>\n",
       "    </tr>\n",
       "    <tr>\n",
       "      <td>6</td>\n",
       "      <td>0.030532</td>\n",
       "      <td>0.033344</td>\n",
       "      <td>0.973503</td>\n",
       "      <td>00:00</td>\n",
       "    </tr>\n",
       "    <tr>\n",
       "      <td>7</td>\n",
       "      <td>0.028236</td>\n",
       "      <td>0.031880</td>\n",
       "      <td>0.973994</td>\n",
       "      <td>00:00</td>\n",
       "    </tr>\n",
       "    <tr>\n",
       "      <td>8</td>\n",
       "      <td>0.026706</td>\n",
       "      <td>0.030957</td>\n",
       "      <td>0.974975</td>\n",
       "      <td>00:00</td>\n",
       "    </tr>\n",
       "    <tr>\n",
       "      <td>9</td>\n",
       "      <td>0.025811</td>\n",
       "      <td>0.029708</td>\n",
       "      <td>0.975957</td>\n",
       "      <td>00:00</td>\n",
       "    </tr>\n",
       "    <tr>\n",
       "      <td>10</td>\n",
       "      <td>0.024237</td>\n",
       "      <td>0.029086</td>\n",
       "      <td>0.975957</td>\n",
       "      <td>00:00</td>\n",
       "    </tr>\n",
       "    <tr>\n",
       "      <td>11</td>\n",
       "      <td>0.023680</td>\n",
       "      <td>0.028486</td>\n",
       "      <td>0.975957</td>\n",
       "      <td>00:00</td>\n",
       "    </tr>\n",
       "    <tr>\n",
       "      <td>12</td>\n",
       "      <td>0.023185</td>\n",
       "      <td>0.027629</td>\n",
       "      <td>0.976938</td>\n",
       "      <td>00:00</td>\n",
       "    </tr>\n",
       "    <tr>\n",
       "      <td>13</td>\n",
       "      <td>0.022075</td>\n",
       "      <td>0.027398</td>\n",
       "      <td>0.976938</td>\n",
       "      <td>00:00</td>\n",
       "    </tr>\n",
       "    <tr>\n",
       "      <td>14</td>\n",
       "      <td>0.021592</td>\n",
       "      <td>0.026328</td>\n",
       "      <td>0.979392</td>\n",
       "      <td>00:00</td>\n",
       "    </tr>\n",
       "    <tr>\n",
       "      <td>15</td>\n",
       "      <td>0.021169</td>\n",
       "      <td>0.026317</td>\n",
       "      <td>0.976938</td>\n",
       "      <td>00:00</td>\n",
       "    </tr>\n",
       "    <tr>\n",
       "      <td>16</td>\n",
       "      <td>0.020910</td>\n",
       "      <td>0.025694</td>\n",
       "      <td>0.978901</td>\n",
       "      <td>00:00</td>\n",
       "    </tr>\n",
       "    <tr>\n",
       "      <td>17</td>\n",
       "      <td>0.020496</td>\n",
       "      <td>0.025377</td>\n",
       "      <td>0.978901</td>\n",
       "      <td>00:00</td>\n",
       "    </tr>\n",
       "    <tr>\n",
       "      <td>18</td>\n",
       "      <td>0.019957</td>\n",
       "      <td>0.025056</td>\n",
       "      <td>0.978901</td>\n",
       "      <td>00:00</td>\n",
       "    </tr>\n",
       "    <tr>\n",
       "      <td>19</td>\n",
       "      <td>0.019636</td>\n",
       "      <td>0.025233</td>\n",
       "      <td>0.977920</td>\n",
       "      <td>00:00</td>\n",
       "    </tr>\n",
       "    <tr>\n",
       "      <td>20</td>\n",
       "      <td>0.019092</td>\n",
       "      <td>0.024207</td>\n",
       "      <td>0.978901</td>\n",
       "      <td>00:00</td>\n",
       "    </tr>\n",
       "    <tr>\n",
       "      <td>21</td>\n",
       "      <td>0.018901</td>\n",
       "      <td>0.024014</td>\n",
       "      <td>0.979392</td>\n",
       "      <td>00:00</td>\n",
       "    </tr>\n",
       "    <tr>\n",
       "      <td>22</td>\n",
       "      <td>0.018798</td>\n",
       "      <td>0.023879</td>\n",
       "      <td>0.978901</td>\n",
       "      <td>00:00</td>\n",
       "    </tr>\n",
       "    <tr>\n",
       "      <td>23</td>\n",
       "      <td>0.018549</td>\n",
       "      <td>0.023283</td>\n",
       "      <td>0.979392</td>\n",
       "      <td>00:00</td>\n",
       "    </tr>\n",
       "    <tr>\n",
       "      <td>24</td>\n",
       "      <td>0.018192</td>\n",
       "      <td>0.023306</td>\n",
       "      <td>0.979392</td>\n",
       "      <td>00:00</td>\n",
       "    </tr>\n",
       "    <tr>\n",
       "      <td>25</td>\n",
       "      <td>0.018178</td>\n",
       "      <td>0.023042</td>\n",
       "      <td>0.979882</td>\n",
       "      <td>00:00</td>\n",
       "    </tr>\n",
       "    <tr>\n",
       "      <td>26</td>\n",
       "      <td>0.017897</td>\n",
       "      <td>0.022467</td>\n",
       "      <td>0.980373</td>\n",
       "      <td>00:00</td>\n",
       "    </tr>\n",
       "    <tr>\n",
       "      <td>27</td>\n",
       "      <td>0.017539</td>\n",
       "      <td>0.022391</td>\n",
       "      <td>0.980373</td>\n",
       "      <td>00:00</td>\n",
       "    </tr>\n",
       "    <tr>\n",
       "      <td>28</td>\n",
       "      <td>0.017438</td>\n",
       "      <td>0.021978</td>\n",
       "      <td>0.981845</td>\n",
       "      <td>00:00</td>\n",
       "    </tr>\n",
       "    <tr>\n",
       "      <td>29</td>\n",
       "      <td>0.017050</td>\n",
       "      <td>0.022131</td>\n",
       "      <td>0.981354</td>\n",
       "      <td>00:00</td>\n",
       "    </tr>\n",
       "    <tr>\n",
       "      <td>30</td>\n",
       "      <td>0.016972</td>\n",
       "      <td>0.021782</td>\n",
       "      <td>0.981354</td>\n",
       "      <td>00:00</td>\n",
       "    </tr>\n",
       "    <tr>\n",
       "      <td>31</td>\n",
       "      <td>0.016472</td>\n",
       "      <td>0.021655</td>\n",
       "      <td>0.980864</td>\n",
       "      <td>00:00</td>\n",
       "    </tr>\n",
       "    <tr>\n",
       "      <td>32</td>\n",
       "      <td>0.016300</td>\n",
       "      <td>0.021533</td>\n",
       "      <td>0.981354</td>\n",
       "      <td>00:00</td>\n",
       "    </tr>\n",
       "    <tr>\n",
       "      <td>33</td>\n",
       "      <td>0.016250</td>\n",
       "      <td>0.021575</td>\n",
       "      <td>0.981845</td>\n",
       "      <td>00:00</td>\n",
       "    </tr>\n",
       "    <tr>\n",
       "      <td>34</td>\n",
       "      <td>0.016211</td>\n",
       "      <td>0.021076</td>\n",
       "      <td>0.980864</td>\n",
       "      <td>00:00</td>\n",
       "    </tr>\n",
       "    <tr>\n",
       "      <td>35</td>\n",
       "      <td>0.016325</td>\n",
       "      <td>0.020919</td>\n",
       "      <td>0.981354</td>\n",
       "      <td>00:00</td>\n",
       "    </tr>\n",
       "    <tr>\n",
       "      <td>36</td>\n",
       "      <td>0.016270</td>\n",
       "      <td>0.020738</td>\n",
       "      <td>0.981845</td>\n",
       "      <td>00:00</td>\n",
       "    </tr>\n",
       "    <tr>\n",
       "      <td>37</td>\n",
       "      <td>0.015657</td>\n",
       "      <td>0.020401</td>\n",
       "      <td>0.982826</td>\n",
       "      <td>00:00</td>\n",
       "    </tr>\n",
       "    <tr>\n",
       "      <td>38</td>\n",
       "      <td>0.015526</td>\n",
       "      <td>0.020439</td>\n",
       "      <td>0.982336</td>\n",
       "      <td>00:00</td>\n",
       "    </tr>\n",
       "    <tr>\n",
       "      <td>39</td>\n",
       "      <td>0.015562</td>\n",
       "      <td>0.020228</td>\n",
       "      <td>0.982336</td>\n",
       "      <td>00:00</td>\n",
       "    </tr>\n",
       "  </tbody>\n",
       "</table>"
      ]
     },
     "metadata": {},
     "output_type": "display_data"
    }
   ],
   "execution_count": 97
  },
  {
   "metadata": {
    "ExecuteTime": {
     "end_time": "2025-04-13T16:34:13.218275Z",
     "start_time": "2025-04-13T16:34:13.137128Z"
    }
   },
   "cell_type": "code",
   "source": "plt.plot(L(learn.recorder.values).itemgot(2))",
   "id": "118b6e1223efb699",
   "outputs": [
    {
     "data": {
      "text/plain": [
       "[<matplotlib.lines.Line2D at 0x22aac8a3830>]"
      ]
     },
     "execution_count": 98,
     "metadata": {},
     "output_type": "execute_result"
    },
    {
     "data": {
      "text/plain": [
       "<Figure size 640x480 with 1 Axes>"
      ],
      "image/png": "[encoded data removed]"
     },
     "metadata": {},
     "output_type": "display_data"
    }
   ],
   "execution_count": 98
  },
  {
   "metadata": {
    "ExecuteTime": {
     "end_time": "2025-04-13T16:35:56.295874Z",
     "start_time": "2025-04-13T16:35:56.292030Z"
    }
   },
   "cell_type": "code",
   "source": "learn.recorder.values[-1][2]",
   "id": "918ea796b4b4d0b6",
   "outputs": [
    {
     "data": {
      "text/plain": [
       "0.98233562707901"
      ]
     },
     "execution_count": 102,
     "metadata": {},
     "output_type": "execute_result"
    }
   ],
   "execution_count": 102
  },
  {
   "metadata": {
    "ExecuteTime": {
     "end_time": "2025-04-13T16:52:56.983846Z",
     "start_time": "2025-04-13T16:52:00.225027Z"
    }
   },
   "cell_type": "code",
   "source": [
    "dls2 = ImageDataLoaders.from_folder(path)\n",
    "learn2 = cnn_learner(dls2, resnet18, pretrained=False, loss_func=F.cross_entropy, metrics=accuracy)\n",
    "learn2.fit_one_cycle(1, 0.1)"
   ],
   "id": "5cc2d5621f0919f4",
   "outputs": [
    {
     "name": "stderr",
     "output_type": "stream",
     "text": [
      "C:\\Users\\Melvi\\anaconda3\\envs\\p3_12_9\\Lib\\site-packages\\fastai\\vision\\learner.py:303: UserWarning: `cnn_learner` has been renamed to `vision_learner` -- please update your code\n",
      "  warn(\"`cnn_learner` has been renamed to `vision_learner` -- please update your code\")\n"
     ]
    },
    {
     "data": {
      "text/plain": [
       "<IPython.core.display.HTML object>"
      ],
      "text/html": [
       "\n",
       "<style>\n",
       "    /* Turns off some styling */\n",
       "    progress {\n",
       "        /* gets rid of default border in Firefox and Opera. */\n",
       "        border: none;\n",
       "        /* Needs to be in here for Safari polyfill so background images work as expected. */\n",
       "        background-size: auto;\n",
       "    }\n",
       "    progress:not([value]), progress:not([value])::-webkit-progress-bar {\n",
       "        background: repeating-linear-gradient(45deg, #7e7e7e, #7e7e7e 10px, #5c5c5c 10px, #5c5c5c 20px);\n",
       "    }\n",
       "    .progress-bar-interrupted, .progress-bar-interrupted::-webkit-progress-bar {\n",
       "        background: #F44336;\n",
       "    }\n",
       "</style>\n"
      ]
     },
     "metadata": {},
     "output_type": "display_data"
    },
    {
     "data": {
      "text/plain": [
       "<IPython.core.display.HTML object>"
      ],
      "text/html": [
       "<table border=\"1\" class=\"dataframe\">\n",
       "  <thead>\n",
       "    <tr style=\"text-align: left;\">\n",
       "      <th>epoch</th>\n",
       "      <th>train_loss</th>\n",
       "      <th>valid_loss</th>\n",
       "      <th>accuracy</th>\n",
       "      <th>time</th>\n",
       "    </tr>\n",
       "  </thead>\n",
       "  <tbody>\n",
       "    <tr>\n",
       "      <td>0</td>\n",
       "      <td>0.102897</td>\n",
       "      <td>0.010849</td>\n",
       "      <td>0.997056</td>\n",
       "      <td>00:55</td>\n",
       "    </tr>\n",
       "  </tbody>\n",
       "</table>"
      ]
     },
     "metadata": {},
     "output_type": "display_data"
    }
   ],
   "execution_count": 104
  }
 ],
 "metadata": {
  "kernelspec": {
   "display_name": "Python 3",
   "language": "python",
   "name": "python3"
  },
  "language_info": {
   "codemirror_mode": {
    "name": "ipython",
    "version": 2
   },
   "file_extension": ".py",
   "mimetype": "text/x-python",
   "name": "python",
   "nbconvert_exporter": "python",
   "pygments_lexer": "ipython2",
   "version": "2.7.6"
  }
 },
 "nbformat": 4,
 "nbformat_minor": 5
}

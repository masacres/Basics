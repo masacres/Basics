{
 "cells": [
  {
   "cell_type": "code",
   "id": "b5d0838dd6cdfd57",
   "metadata": {
    "ExecuteTime": {
     "end_time": "2025-04-09T04:41:31.009805Z",
     "start_time": "2025-04-09T04:41:30.994224Z"
    }
   },
   "source": [
    "import torch\n",
    "import torch.nn as nn"
   ],
   "outputs": [],
   "execution_count": 199
  },
  {
   "metadata": {
    "ExecuteTime": {
     "end_time": "2025-04-09T04:41:31.025431Z",
     "start_time": "2025-04-09T04:41:31.009805Z"
    }
   },
   "cell_type": "code",
   "source": [
    "# Example vocabulary (replace with your actual vocabulary)\n",
    "vocab = {\n",
    "    \"apple\": 0,\n",
    "    \"banana\": 1,\n",
    "    \"cherry\": 2,\n",
    "    \"date\": 3,\n",
    "    \"elderberry\": 4,\n",
    "    \"fig\": 5,\n",
    "}\n",
    "word_list = list(vocab.keys())\n",
    "\n",
    "# Example input indices (representing words from the vocabulary)\n",
    "input_indices = torch.tensor([vocab[\"apple\"], vocab[\"banana\"], vocab[\"cherry\"], vocab[\"date\"], vocab[\"elderberry\"], vocab[\"fig\"]])\n",
    "print(input_indices)"
   ],
   "id": "dc636834b60ef5d0",
   "outputs": [
    {
     "name": "stdout",
     "output_type": "stream",
     "text": [
      "tensor([0, 1, 2, 3, 4, 5])\n"
     ]
    }
   ],
   "execution_count": 200
  },
  {
   "metadata": {
    "ExecuteTime": {
     "end_time": "2025-04-09T04:41:31.057085Z",
     "start_time": "2025-04-09T04:41:31.041452Z"
    }
   },
   "cell_type": "code",
   "source": [
    "# Embedding parameters\n",
    "vocab_size = len(vocab)\n",
    "embedding_dim = 2  # Dimensionality of the embeddings\n",
    "\n",
    "# Create the embedding layer\n",
    "embedding_layer = nn.Embedding(vocab_size, embedding_dim)\n",
    "\n",
    "# Apply the embedding layer to the input indices\n",
    "embeddings = embedding_layer(input_indices)\n",
    "\n",
    "# Print the embeddings\n",
    "print(\"Input Indices:\", input_indices)\n",
    "print(\"Embeddings:\", embeddings)"
   ],
   "id": "d38e3f4059129206",
   "outputs": [
    {
     "name": "stdout",
     "output_type": "stream",
     "text": [
      "Input Indices: tensor([0, 1, 2, 3, 4, 5])\n",
      "Embeddings: tensor([[-0.9159, -1.0467],\n",
      "        [-0.6514,  0.6770],\n",
      "        [ 1.4778,  0.6756],\n",
      "        [-0.4753, -0.3208],\n",
      "        [-0.1215, -0.5721],\n",
      "        [-0.1987,  0.0452]], grad_fn=<EmbeddingBackward0>)\n"
     ]
    }
   ],
   "execution_count": 201
  },
  {
   "metadata": {
    "ExecuteTime": {
     "end_time": "2025-04-09T04:41:31.222514Z",
     "start_time": "2025-04-09T04:41:31.206866Z"
    }
   },
   "cell_type": "code",
   "source": [
    "def show_embeddings(embeddings):\n",
    "    data = pd.DataFrame(embeddings, columns=[\"A\", \"B\"])\n",
    "    data['Word'] = word_list\n",
    "\n",
    "    plt.figure(figsize=(4,3))\n",
    "    sns.scatterplot(x='A', y='B', data=data)\n",
    "\n",
    "    for i, row in data.iterrows():\n",
    "      plt.annotate(row['Word'], (row['A'], row['B']))\n",
    "\n",
    "    plt.title(\"Trained 2D Embeddings Visualization\")\n",
    "    plt.show()"
   ],
   "id": "7d890641769ac395",
   "outputs": [],
   "execution_count": 202
  },
  {
   "metadata": {
    "ExecuteTime": {
     "end_time": "2025-04-09T04:41:31.254250Z",
     "start_time": "2025-04-09T04:41:31.238599Z"
    }
   },
   "cell_type": "code",
   "source": "before = embedding_layer(input_indices).detach().numpy()",
   "id": "1b178b0602b5305b",
   "outputs": [],
   "execution_count": 203
  },
  {
   "metadata": {
    "ExecuteTime": {
     "end_time": "2025-04-09T04:41:31.291628Z",
     "start_time": "2025-04-09T04:41:31.270261Z"
    }
   },
   "cell_type": "code",
   "source": [
    "# Example of obtaining embedding for a single word:\n",
    "single_word_embedding = embedding_layer(torch.tensor(vocab[\"date\"]))\n",
    "print(\"Embedding for 'date':\", single_word_embedding)"
   ],
   "id": "fbff104c03332ec9",
   "outputs": [
    {
     "name": "stdout",
     "output_type": "stream",
     "text": [
      "Embedding for 'date': tensor([-0.4753, -0.3208], grad_fn=<EmbeddingBackward0>)\n"
     ]
    }
   ],
   "execution_count": 204
  },
  {
   "metadata": {
    "ExecuteTime": {
     "end_time": "2025-04-09T04:41:31.329594Z",
     "start_time": "2025-04-09T04:41:31.309804Z"
    }
   },
   "cell_type": "code",
   "source": [
    "# Example of how to access the embedding weights directly:\n",
    "embedding_weights = embedding_layer.weight\n",
    "print(\"Embedding Weights:\", embedding_weights)"
   ],
   "id": "695d6510f1ccb83a",
   "outputs": [
    {
     "name": "stdout",
     "output_type": "stream",
     "text": [
      "Embedding Weights: Parameter containing:\n",
      "tensor([[-0.9159, -1.0467],\n",
      "        [-0.6514,  0.6770],\n",
      "        [ 1.4778,  0.6756],\n",
      "        [-0.4753, -0.3208],\n",
      "        [-0.1215, -0.5721],\n",
      "        [-0.1987,  0.0452]], requires_grad=True)\n"
     ]
    }
   ],
   "execution_count": 205
  },
  {
   "metadata": {
    "ExecuteTime": {
     "end_time": "2025-04-09T04:41:31.361402Z",
     "start_time": "2025-04-09T04:41:31.345756Z"
    }
   },
   "cell_type": "code",
   "source": [
    "# Access the embedding for the word at index 0 (apple):\n",
    "apple_embedding = embedding_weights[0]\n",
    "print(\"Embedding for apple from weights:\", apple_embedding)"
   ],
   "id": "65a6d790cae53614",
   "outputs": [
    {
     "name": "stdout",
     "output_type": "stream",
     "text": [
      "Embedding for apple from weights: tensor([-0.9159, -1.0467], grad_fn=<SelectBackward0>)\n"
     ]
    }
   ],
   "execution_count": 206
  },
  {
   "metadata": {
    "collapsed": true,
    "ExecuteTime": {
     "end_time": "2025-04-09T04:41:31.398512Z",
     "start_time": "2025-04-09T04:41:31.377031Z"
    }
   },
   "cell_type": "code",
   "source": [
    "# Example of how to train the embedding layer.\n",
    "# In a real-world scenario, you would train this as part of a larger neural network.\n",
    "# Here's a simplified example to show how the weights change.\n",
    "optimizer = torch.optim.SGD(embedding_layer.parameters(), lr=0.1)\n",
    "loss_fn = nn.MSELoss()\n",
    "\n",
    "target = torch.randn(len(input_indices), embedding_dim) # dummy target for the example.\n",
    "\n",
    "for epoch in range(100):\n",
    "  optimizer.zero_grad()\n",
    "  embedded = embedding_layer(input_indices)\n",
    "  loss = loss_fn(embedded, target)\n",
    "  loss.backward()\n",
    "  optimizer.step()\n",
    "  print(f\"Epoch {epoch+1}, Loss: {loss.item()}\") if epoch % 10 == 0 else None\n",
    "\n",
    "print(\"Embeddings after training:\", embedding_layer(input_indices))"
   ],
   "id": "initial_id",
   "outputs": [
    {
     "name": "stdout",
     "output_type": "stream",
     "text": [
      "Epoch 1, Loss: 1.9184099435806274\n",
      "Epoch 11, Loss: 1.3707448244094849\n",
      "Epoch 21, Loss: 0.9794264435768127\n",
      "Epoch 31, Loss: 0.6998210549354553\n",
      "Epoch 41, Loss: 0.5000371932983398\n",
      "Epoch 51, Loss: 0.35728719830513\n",
      "Epoch 61, Loss: 0.25528934597969055\n",
      "Epoch 71, Loss: 0.18240968883037567\n",
      "Epoch 81, Loss: 0.13033562898635864\n",
      "Epoch 91, Loss: 0.09312758594751358\n",
      "Embeddings after training: tensor([[ 0.8892,  0.3577],\n",
      "        [ 0.2232,  2.1052],\n",
      "        [ 1.1910, -1.1439],\n",
      "        [-1.4171,  0.2729],\n",
      "        [ 0.4972, -0.8975],\n",
      "        [-0.9426, -1.1938]], grad_fn=<EmbeddingBackward0>)\n"
     ]
    }
   ],
   "execution_count": 207
  },
  {
   "metadata": {
    "ExecuteTime": {
     "end_time": "2025-04-09T04:41:31.433630Z",
     "start_time": "2025-04-09T04:41:31.414118Z"
    }
   },
   "cell_type": "code",
   "source": [
    "import seaborn as sns\n",
    "import matplotlib.pyplot as plt\n",
    "import pandas as pd"
   ],
   "id": "758b2281b3620fd2",
   "outputs": [],
   "execution_count": 208
  },
  {
   "metadata": {
    "ExecuteTime": {
     "end_time": "2025-04-09T04:41:31.609889Z",
     "start_time": "2025-04-09T04:41:31.449264Z"
    }
   },
   "cell_type": "code",
   "source": "show_embeddings(before)",
   "id": "d6ff46dd2043fb35",
   "outputs": [
    {
     "data": {
      "text/plain": [
       "<Figure size 400x300 with 1 Axes>"
      ],
      "image/png": "[encoded data removed]"
     },
     "metadata": {},
     "output_type": "display_data"
    }
   ],
   "execution_count": 209
  },
  {
   "metadata": {
    "ExecuteTime": {
     "end_time": "2025-04-09T04:41:31.767133Z",
     "start_time": "2025-04-09T04:41:31.625516Z"
    }
   },
   "cell_type": "code",
   "source": [
    "after = embedding_layer(input_indices).detach().numpy()\n",
    "show_embeddings(after)"
   ],
   "id": "d53c6551ba535d44",
   "outputs": [
    {
     "data": {
      "text/plain": [
       "<Figure size 400x300 with 1 Axes>"
      ],
      "image/png": "[encoded data removed]"
     },
     "metadata": {},
     "output_type": "display_data"
    }
   ],
   "execution_count": 210
  }
 ],
 "metadata": {
  "kernelspec": {
   "display_name": "Python 3",
   "language": "python",
   "name": "python3"
  },
  "language_info": {
   "codemirror_mode": {
    "name": "ipython",
    "version": 2
   },
   "file_extension": ".py",
   "mimetype": "text/x-python",
   "name": "python",
   "nbconvert_exporter": "python",
   "pygments_lexer": "ipython2",
   "version": "2.7.6"
  }
 },
 "nbformat": 4,
 "nbformat_minor": 5
}

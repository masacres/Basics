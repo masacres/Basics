{
 "cells": [
  {
   "cell_type": "code",
   "id": "initial_id",
   "metadata": {
    "ExecuteTime": {
     "end_time": "2025-09-07T00:13:08.454916Z",
     "start_time": "2025-09-07T00:13:08.441046Z"
    }
   },
   "source": [
    "import os\n",
    "import requests\n",
    "import json\n",
    "\n",
    "API_ENDPOINT = \"https://generativelanguage.googleapis.com/v1beta/models/gemini-2.0-flash:generateContent\"\n",
    "API_KEY = os.environ.get(\"GOOGLE_API_KEY\")\n",
    "\n",
    "if not API_KEY: raise ValueError(\"API key not found. Please set the 'GOOGLE_API_KEY' environment variable.\")\n",
    "\n",
    "headers = {\n",
    "    \"Content-Type\": \"application/json\"\n",
    "}"
   ],
   "outputs": [],
   "execution_count": 17
  },
  {
   "metadata": {
    "ExecuteTime": {
     "end_time": "2025-09-07T00:12:09.849219Z",
     "start_time": "2025-09-07T00:12:09.837432Z"
    }
   },
   "cell_type": "code",
   "source": [
    "def ask_gemini(question: str):\n",
    "    try:\n",
    "        data = {\n",
    "            \"contents\": [\n",
    "                {\n",
    "                    \"parts\": [\n",
    "                        {\"text\": \"You are a robot. You always give short correct direct answers.\"}\n",
    "                    ],\n",
    "                    \"role\": \"user\"\n",
    "                },\n",
    "                {\n",
    "                    \"parts\": [\n",
    "                        {\"text\": question}\n",
    "                    ],\n",
    "                    \"role\": \"user\"\n",
    "                },\n",
    "            ]\n",
    "        }\n",
    "\n",
    "        # Make the POST request to the API\n",
    "        response = requests.post(f\"{API_ENDPOINT}?key={API_KEY}\", headers=headers, data=json.dumps(data))\n",
    "        response.raise_for_status()\n",
    "        response_data = response.json()\n",
    "\n",
    "        return response_data['candidates'][0]['content']['parts'][0]['text'].strip()\n",
    "\n",
    "    except Exception as e:\n",
    "        return f\"An error occurred: {e}\""
   ],
   "id": "1f71cf2dfd13fbd",
   "outputs": [],
   "execution_count": 16
  },
  {
   "metadata": {
    "ExecuteTime": {
     "end_time": "2025-09-07T00:11:53.859166Z",
     "start_time": "2025-09-07T00:11:53.175347Z"
    }
   },
   "cell_type": "code",
   "source": [
    "my_question = \"What is the capital of France?\"\n",
    "answer = ask_gemini(my_question)\n",
    "print(answer)"
   ],
   "id": "6d1a7b7543433d92",
   "outputs": [
    {
     "name": "stdout",
     "output_type": "stream",
     "text": [
      "Paris.\n"
     ]
    }
   ],
   "execution_count": 15
  }
 ],
 "metadata": {
  "kernelspec": {
   "display_name": "Python 3",
   "language": "python",
   "name": "python3"
  },
  "language_info": {
   "codemirror_mode": {
    "name": "ipython",
    "version": 2
   },
   "file_extension": ".py",
   "mimetype": "text/x-python",
   "name": "python",
   "nbconvert_exporter": "python",
   "pygments_lexer": "ipython2",
   "version": "2.7.6"
  }
 },
 "nbformat": 4,
 "nbformat_minor": 5
}

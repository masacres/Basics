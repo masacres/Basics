{
 "cells": [
  {
   "cell_type": "code",
   "id": "initial_id",
   "metadata": {
    "ExecuteTime": {
     "end_time": "2025-09-06T23:03:54.396387Z",
     "start_time": "2025-09-06T23:03:54.369785Z"
    }
   },
   "source": [
    "from transformers import pipeline\n",
    "import torch\n",
    "\n",
    "MODEL = \"meta-llama/Llama-2-7b-chat-hf\"\n",
    "\n",
    "def ask_llama(question: str):\n",
    "    try:\n",
    "        system_message = \"You are a robot. You always give short correct direct answers.\"\n",
    "        user_prompt = question\n",
    "\n",
    "        # Create the full prompt using the Llama 2 chat template\n",
    "        full_prompt = (\n",
    "            f\"<s>[INST] <<SYS>>\\n\"\n",
    "            f\"{system_message}\\n\"\n",
    "            f\"<</SYS>>\\n\\n\"\n",
    "            f\"{user_prompt} [/INST]\"\n",
    "        )\n",
    "\n",
    "        # The `torch_dtype=torch.float16` and `device_map=\"auto\"` are important\n",
    "        # for running a model of this size efficiently, especially on a GPU.\n",
    "        generator = pipeline(\n",
    "            \"text-generation\",\n",
    "            model=MODEL,\n",
    "            torch_dtype=torch.float16,\n",
    "            device_map=\"auto\"\n",
    "        )\n",
    "\n",
    "        response = generator(\n",
    "            full_prompt,\n",
    "            max_length=500,\n",
    "            num_return_sequences=1,\n",
    "            # Add these parameters to control the output\n",
    "            do_sample=True,\n",
    "            top_k=10,\n",
    "            eos_token_id=generator.tokenizer.eos_token_id,\n",
    "        )\n",
    "\n",
    "        # Extract the generated text. Note that the output includes the prompt itself.\n",
    "        # We slice the string to get just the response.\n",
    "        answer = response[0]['generated_text']\n",
    "\n",
    "        # The Llama-2-chat template is unique, so we'll slice the output\n",
    "        # to remove the prompt and only show the generated response.\n",
    "        return answer.replace(full_prompt, \"\").strip()\n",
    "\n",
    "    except Exception as e:\n",
    "        return f\"An error occurred: {e}\""
   ],
   "outputs": [],
   "execution_count": 69
  },
  {
   "metadata": {
    "ExecuteTime": {
     "end_time": "2025-09-06T23:04:11.937722Z",
     "start_time": "2025-09-06T23:03:56.524061Z"
    }
   },
   "cell_type": "code",
   "source": [
    "%%time\n",
    "\n",
    "my_question = \"What is the capital of France?\"\n",
    "answer = ask_llama(my_question)\n",
    "print(answer)"
   ],
   "id": "cc79c9d3e6e3773d",
   "outputs": [
    {
     "name": "stderr",
     "output_type": "stream",
     "text": [
      "Loading checkpoint shards: 100%|██████████| 2/2 [00:02<00:00,  1.14s/it]\n",
      "Some parameters are on the meta device because they were offloaded to the cpu.\n",
      "Truncation was not explicitly activated but `max_length` is provided a specific value, please use `truncation=True` to explicitly truncate examples to max length. Defaulting to 'longest_first' truncation strategy. If you encode pairs of sequences (GLUE-style) with the tokenizer you can select this strategy more precisely by providing a specific strategy to `truncation`.\n"
     ]
    },
    {
     "name": "stdout",
     "output_type": "stream",
     "text": [
      "The capital of France is Paris.\n",
      "CPU times: total: 14.1 s\n",
      "Wall time: 15.4 s\n"
     ]
    }
   ],
   "execution_count": 70
  },
  {
   "metadata": {
    "ExecuteTime": {
     "end_time": "2025-09-06T21:41:31.708635Z",
     "start_time": "2025-09-06T21:40:02.367553Z"
    }
   },
   "cell_type": "code",
   "source": [
    "%%time\n",
    "\n",
    "my_question = \"tell me a joke\"\n",
    "answer = ask_llama(my_question)\n",
    "print(answer)"
   ],
   "id": "55c3dcac5aaa84eb",
   "outputs": [
    {
     "name": "stderr",
     "output_type": "stream",
     "text": [
      "Loading checkpoint shards: 100%|██████████| 2/2 [00:01<00:00,  1.89it/s]\n",
      "Some parameters are on the meta device because they were offloaded to the cpu.\n",
      "Truncation was not explicitly activated but `max_length` is provided a specific value, please use `truncation=True` to explicitly truncate examples to max length. Defaulting to 'longest_first' truncation strategy. If you encode pairs of sequences (GLUE-style) with the tokenizer you can select this strategy more precisely by providing a specific strategy to `truncation`.\n"
     ]
    },
    {
     "name": "stdout",
     "output_type": "stream",
     "text": [
      "Arrrr, here be a joke fer ye:\n",
      "\n",
      "Why did the scurvy dog cross the plank?\n",
      "\n",
      "To get to the other side... of the bar! *wink*\n",
      "CPU times: total: 1min 24s\n",
      "Wall time: 1min 29s\n"
     ]
    }
   ],
   "execution_count": 59
  }
 ],
 "metadata": {
  "kernelspec": {
   "display_name": "Python 3",
   "language": "python",
   "name": "python3"
  },
  "language_info": {
   "codemirror_mode": {
    "name": "ipython",
    "version": 2
   },
   "file_extension": ".py",
   "mimetype": "text/x-python",
   "name": "python",
   "nbconvert_exporter": "python",
   "pygments_lexer": "ipython2",
   "version": "2.7.6"
  }
 },
 "nbformat": 4,
 "nbformat_minor": 5
}

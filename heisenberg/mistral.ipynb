{
 "cells": [
  {
   "cell_type": "code",
   "id": "initial_id",
   "metadata": {
    "ExecuteTime": {
     "end_time": "2025-09-06T22:37:46.266531Z",
     "start_time": "2025-09-06T22:37:41.917503Z"
    }
   },
   "source": [
    "from transformers import pipeline\n",
    "import torch\n",
    "\n",
    "MODEL = \"mistralai/Mistral-7B-Instruct-v0.3\"\n",
    "\n",
    "def ask_mistral(question: str):\n",
    "    try:\n",
    "        user_prompt = f\"Please provide a short, direct answer to the following question: {question}\"\n",
    "\n",
    "        # Apply the Mistral prompt template\n",
    "        full_prompt = f\"<s>[INST] {user_prompt} [/INST]\"\n",
    "\n",
    "        # Initialize the text-generation pipeline\n",
    "        # Use torch.float16 for efficiency on most GPUs\n",
    "        # Use device_map=\"auto\" to automatically utilize the GPU(s)\n",
    "        generator = pipeline(\n",
    "            \"text-generation\",\n",
    "            model=MODEL,\n",
    "            torch_dtype=torch.float16,\n",
    "            device_map=\"auto\"\n",
    "        )\n",
    "\n",
    "        # Ask the model\n",
    "        response = generator(\n",
    "            full_prompt,\n",
    "            max_new_tokens=100,  # Use max_new_tokens for the generated output\n",
    "            num_return_sequences=1,\n",
    "            do_sample=True,\n",
    "            top_k=50,\n",
    "            top_p=0.95\n",
    "        )\n",
    "\n",
    "        # The output includes the original prompt; we need to extract the answer.\n",
    "        generated_text = response[0]['generated_text']\n",
    "        answer = generated_text.replace(full_prompt, \"\").strip()\n",
    "\n",
    "        return answer\n",
    "\n",
    "    except Exception as e:\n",
    "        return f\"An error occurred: {e}\""
   ],
   "outputs": [
    {
     "name": "stderr",
     "output_type": "stream",
     "text": [
      "C:\\Users\\Melvi\\anaconda3\\envs\\p380\\lib\\site-packages\\tqdm\\auto.py:21: TqdmWarning: IProgress not found. Please update jupyter and ipywidgets. See https://ipywidgets.readthedocs.io/en/stable/user_install.html\n",
      "  from .autonotebook import tqdm as notebook_tqdm\n"
     ]
    }
   ],
   "execution_count": 1
  },
  {
   "metadata": {
    "ExecuteTime": {
     "end_time": "2025-09-06T22:38:34.742798Z",
     "start_time": "2025-09-06T22:37:46.267535Z"
    }
   },
   "cell_type": "code",
   "source": [
    "%%time\n",
    "\n",
    "my_question = \"What is the capital of France?\"\n",
    "answer = ask_mistral(my_question)\n",
    "print(answer)"
   ],
   "id": "cc79c9d3e6e3773d",
   "outputs": [
    {
     "name": "stderr",
     "output_type": "stream",
     "text": [
      "Loading checkpoint shards: 100%|██████████| 3/3 [00:08<00:00,  2.86s/it]\n",
      "Some parameters are on the meta device because they were offloaded to the cpu.\n",
      "Setting `pad_token_id` to `eos_token_id`:None for open-end generation.\n",
      "C:\\Users\\Melvi\\anaconda3\\envs\\p380\\lib\\site-packages\\transformers\\models\\mistral\\modeling_mistral.py:456: UserWarning: 1Torch was not compiled with flash attention. (Triggered internally at C:\\actions-runner\\_work\\pytorch\\pytorch\\builder\\windows\\pytorch\\aten\\src\\ATen\\native\\transformers\\cuda\\sdp_utils.cpp:555.)\n",
      "  attn_output = torch.nn.functional.scaled_dot_product_attention(\n"
     ]
    },
    {
     "name": "stdout",
     "output_type": "stream",
     "text": [
      "The capital of France is Paris.\n",
      "CPU times: total: 1min 15s\n",
      "Wall time: 48.4 s\n"
     ]
    }
   ],
   "execution_count": 2
  }
 ],
 "metadata": {
  "kernelspec": {
   "display_name": "Python 3",
   "language": "python",
   "name": "python3"
  },
  "language_info": {
   "codemirror_mode": {
    "name": "ipython",
    "version": 2
   },
   "file_extension": ".py",
   "mimetype": "text/x-python",
   "name": "python",
   "nbconvert_exporter": "python",
   "pygments_lexer": "ipython2",
   "version": "2.7.6"
  }
 },
 "nbformat": 4,
 "nbformat_minor": 5
}
